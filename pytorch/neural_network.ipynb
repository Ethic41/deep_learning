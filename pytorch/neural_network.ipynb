{
  "nbformat": 4,
  "nbformat_minor": 0,
  "metadata": {
    "colab": {
      "name": "neural_network.ipynb",
      "provenance": [],
      "collapsed_sections": [],
      "authorship_tag": "ABX9TyN9Y4ZXkx4DbBlkfVAiWavd",
      "include_colab_link": true
    },
    "kernelspec": {
      "name": "python3",
      "display_name": "Python 3"
    },
    "language_info": {
      "name": "python"
    }
  },
  "cells": [
    {
      "cell_type": "markdown",
      "metadata": {
        "id": "view-in-github",
        "colab_type": "text"
      },
      "source": [
        "<a href=\"https://colab.research.google.com/github/Ethic41/deep_learning/blob/master/pytorch/neural_network.ipynb\" target=\"_parent\"><img src=\"https://colab.research.google.com/assets/colab-badge.svg\" alt=\"Open In Colab\"/></a>"
      ]
    },
    {
      "cell_type": "code",
      "metadata": {
        "id": "G0TrzMkynEXP"
      },
      "source": [
        "import os\n",
        "import torch\n",
        "from torch import nn\n",
        "from torch.utils.data import DataLoader\n",
        "from torchvision import datasets, transforms\n",
        "\n"
      ],
      "execution_count": 1,
      "outputs": []
    },
    {
      "cell_type": "code",
      "metadata": {
        "colab": {
          "base_uri": "https://localhost:8080/"
        },
        "id": "VroH_NS0nMRw",
        "outputId": "99b6b544-4e16-44cf-c038-87dfc5e94064"
      },
      "source": [
        "device = \"cuda\" if torch.cuda.is_available() else \"cpu\"\n",
        "print(f\"using {device} device\")"
      ],
      "execution_count": 2,
      "outputs": [
        {
          "output_type": "stream",
          "text": [
            "using cuda device\n"
          ],
          "name": "stdout"
        }
      ]
    },
    {
      "cell_type": "code",
      "metadata": {
        "id": "E5wojNO6nP5e"
      },
      "source": [
        "class NeuralNetwork(nn.Module):\n",
        "  def __init__(self):\n",
        "    super(NeuralNetwork, self).__init__()\n",
        "    self.flatten = nn.Flatten()\n",
        "    self.linear_relu_stack = nn.Sequential(\n",
        "        nn.Linear(28*28, 512),\n",
        "        nn.ReLU(),\n",
        "        nn.Linear(512, 512),\n",
        "        nn.ReLU(),\n",
        "        nn.Linear(512, 10),\n",
        "        nn.ReLU()\n",
        "    )\n",
        "  \n",
        "  def forward(self, x):\n",
        "    x = self.flatten(x)\n",
        "    logits = self.linear_relu_stack(x)\n",
        "    return logits\n",
        "\n"
      ],
      "execution_count": 3,
      "outputs": []
    },
    {
      "cell_type": "code",
      "metadata": {
        "id": "Uu8V5NednS6O"
      },
      "source": [
        "model = NeuralNetwork().to(device)"
      ],
      "execution_count": 4,
      "outputs": []
    },
    {
      "cell_type": "code",
      "metadata": {
        "colab": {
          "base_uri": "https://localhost:8080/"
        },
        "id": "y_U31MUfnVXm",
        "outputId": "067bc44e-587f-420b-f0ec-ba79ba84baa2"
      },
      "source": [
        "X = torch.rand(1, 28, 28, device=device)\n",
        "logits = model(X)\n",
        "pred_probab = nn.Softmax(dim=1)(logits)\n",
        "y_pred = pred_probab.argmax(1)\n",
        "print(f\"Predicted class: {y_pred}\")"
      ],
      "execution_count": 5,
      "outputs": [
        {
          "output_type": "stream",
          "text": [
            "Predicted class: tensor([5], device='cuda:0')\n"
          ],
          "name": "stdout"
        }
      ]
    },
    {
      "cell_type": "code",
      "metadata": {
        "colab": {
          "base_uri": "https://localhost:8080/"
        },
        "id": "Wen7dhF9nYsu",
        "outputId": "631fd414-bfe8-4e3c-aa85-9054ef2ab441"
      },
      "source": [
        "input_image = torch.rand(3, 28, 28)\n",
        "print(input_image.size())"
      ],
      "execution_count": 6,
      "outputs": [
        {
          "output_type": "stream",
          "text": [
            "torch.Size([3, 28, 28])\n"
          ],
          "name": "stdout"
        }
      ]
    },
    {
      "cell_type": "code",
      "metadata": {
        "colab": {
          "base_uri": "https://localhost:8080/"
        },
        "id": "-q5_NuK1n9mW",
        "outputId": "98357a9d-129e-45a7-bca7-4b9de79923a5"
      },
      "source": [
        "input_image"
      ],
      "execution_count": 7,
      "outputs": [
        {
          "output_type": "execute_result",
          "data": {
            "text/plain": [
              "tensor([[[0.8338, 0.4421, 0.9767,  ..., 0.5505, 0.5362, 0.3428],\n",
              "         [0.4752, 0.3561, 0.4641,  ..., 0.4480, 0.6064, 0.1242],\n",
              "         [0.5081, 0.8368, 0.3090,  ..., 0.2357, 0.9312, 0.5381],\n",
              "         ...,\n",
              "         [0.1717, 0.4560, 0.0960,  ..., 0.4245, 0.0739, 0.2715],\n",
              "         [0.6873, 0.5924, 0.3658,  ..., 0.3414, 0.5221, 0.1075],\n",
              "         [0.7742, 0.6632, 0.6535,  ..., 0.5806, 0.6136, 0.6844]],\n",
              "\n",
              "        [[0.4626, 0.4872, 0.4747,  ..., 0.9995, 0.1516, 0.2835],\n",
              "         [0.8786, 0.1196, 0.7424,  ..., 0.0470, 0.6741, 0.5461],\n",
              "         [0.6710, 0.0028, 0.9920,  ..., 0.6967, 0.9387, 0.0714],\n",
              "         ...,\n",
              "         [0.4740, 0.5679, 0.4441,  ..., 0.9790, 0.7698, 0.0326],\n",
              "         [0.5798, 0.4806, 0.5331,  ..., 0.0499, 0.0971, 0.6356],\n",
              "         [0.0847, 0.6660, 0.4154,  ..., 0.9437, 0.8981, 0.9853]],\n",
              "\n",
              "        [[0.1166, 0.7669, 0.2135,  ..., 0.8266, 0.0279, 0.2952],\n",
              "         [0.0287, 0.0683, 0.8518,  ..., 0.0986, 0.4582, 0.0550],\n",
              "         [0.7444, 0.0850, 0.2803,  ..., 0.9478, 0.7738, 0.5399],\n",
              "         ...,\n",
              "         [0.2602, 0.2795, 0.9816,  ..., 0.1701, 0.4593, 0.5892],\n",
              "         [0.5272, 0.2150, 0.3414,  ..., 0.8863, 0.6233, 0.6466],\n",
              "         [0.7148, 0.4345, 0.1736,  ..., 0.7804, 0.6509, 0.9506]]])"
            ]
          },
          "metadata": {
            "tags": []
          },
          "execution_count": 7
        }
      ]
    },
    {
      "cell_type": "code",
      "metadata": {
        "colab": {
          "base_uri": "https://localhost:8080/"
        },
        "id": "Uv9BuAikoE2W",
        "outputId": "6c04e2f8-3fff-430c-cd3d-16df0698eedd"
      },
      "source": [
        "flatten = nn.Flatten()\n",
        "flat_image = flatten(input_image)\n",
        "print(flat_image.size())"
      ],
      "execution_count": 8,
      "outputs": [
        {
          "output_type": "stream",
          "text": [
            "torch.Size([3, 784])\n"
          ],
          "name": "stdout"
        }
      ]
    },
    {
      "cell_type": "code",
      "metadata": {
        "colab": {
          "base_uri": "https://localhost:8080/"
        },
        "id": "Fjst-mLCobV1",
        "outputId": "9c2c0086-6a7b-4587-dc84-d104f7cfc8fb"
      },
      "source": [
        "flat_image"
      ],
      "execution_count": 9,
      "outputs": [
        {
          "output_type": "execute_result",
          "data": {
            "text/plain": [
              "tensor([[0.8338, 0.4421, 0.9767,  ..., 0.5806, 0.6136, 0.6844],\n",
              "        [0.4626, 0.4872, 0.4747,  ..., 0.9437, 0.8981, 0.9853],\n",
              "        [0.1166, 0.7669, 0.2135,  ..., 0.7804, 0.6509, 0.9506]])"
            ]
          },
          "metadata": {
            "tags": []
          },
          "execution_count": 9
        }
      ]
    },
    {
      "cell_type": "code",
      "metadata": {
        "colab": {
          "base_uri": "https://localhost:8080/"
        },
        "id": "XxXH0J8xoeDd",
        "outputId": "c778d894-54ed-41c7-8dd2-0bb8814ca724"
      },
      "source": [
        "layer1 = nn.Linear(in_features=28*28, out_features=20)\n",
        "hidden1 = layer1(flat_image)\n",
        "print(hidden1.size())"
      ],
      "execution_count": 11,
      "outputs": [
        {
          "output_type": "stream",
          "text": [
            "torch.Size([3, 20])\n"
          ],
          "name": "stdout"
        }
      ]
    },
    {
      "cell_type": "code",
      "metadata": {
        "colab": {
          "base_uri": "https://localhost:8080/"
        },
        "id": "nwaHmuslqQ5d",
        "outputId": "21b98202-80ab-4905-d61a-bb5fd0fe1893"
      },
      "source": [
        "hidden1"
      ],
      "execution_count": 12,
      "outputs": [
        {
          "output_type": "execute_result",
          "data": {
            "text/plain": [
              "tensor([[-0.0373,  0.3182, -0.0409,  0.6543, -0.1539,  0.3342,  0.4465,  0.3082,\n",
              "         -0.0221,  0.0855,  0.4120, -0.3282, -0.1658,  0.3449,  0.3416,  0.0084,\n",
              "         -0.1874,  0.4792,  0.0365, -0.1241],\n",
              "        [ 0.1962,  0.3512,  0.1472,  0.4314,  0.2013,  0.2971,  0.7332,  0.2000,\n",
              "         -0.0489,  0.0610,  0.4259, -0.0464, -0.4247,  0.4220,  0.4808,  0.5562,\n",
              "         -0.5074,  0.0806,  0.2490,  0.1139],\n",
              "        [-0.4013,  0.2450,  0.2255,  0.7021, -0.0812, -0.3193,  0.5473,  0.1059,\n",
              "          0.1038, -0.2793,  0.2983, -0.3292, -0.1629,  0.0268,  0.3487,  0.1554,\n",
              "         -0.2208,  0.0709,  0.0076, -0.1576]], grad_fn=<AddmmBackward>)"
            ]
          },
          "metadata": {
            "tags": []
          },
          "execution_count": 12
        }
      ]
    },
    {
      "cell_type": "code",
      "metadata": {
        "colab": {
          "base_uri": "https://localhost:8080/"
        },
        "id": "BArof8CsqU5E",
        "outputId": "8b759542-2114-4ddd-c9fd-7f2301e6484c"
      },
      "source": [
        "print(f\"Before ReLU: {hidden1}\\n\\n\")\n",
        "hidden1 = nn.ReLU()(hidden1)\n",
        "print(f\"After ReLU: {hidden1}\")"
      ],
      "execution_count": 13,
      "outputs": [
        {
          "output_type": "stream",
          "text": [
            "Before ReLU: tensor([[-0.0373,  0.3182, -0.0409,  0.6543, -0.1539,  0.3342,  0.4465,  0.3082,\n",
            "         -0.0221,  0.0855,  0.4120, -0.3282, -0.1658,  0.3449,  0.3416,  0.0084,\n",
            "         -0.1874,  0.4792,  0.0365, -0.1241],\n",
            "        [ 0.1962,  0.3512,  0.1472,  0.4314,  0.2013,  0.2971,  0.7332,  0.2000,\n",
            "         -0.0489,  0.0610,  0.4259, -0.0464, -0.4247,  0.4220,  0.4808,  0.5562,\n",
            "         -0.5074,  0.0806,  0.2490,  0.1139],\n",
            "        [-0.4013,  0.2450,  0.2255,  0.7021, -0.0812, -0.3193,  0.5473,  0.1059,\n",
            "          0.1038, -0.2793,  0.2983, -0.3292, -0.1629,  0.0268,  0.3487,  0.1554,\n",
            "         -0.2208,  0.0709,  0.0076, -0.1576]], grad_fn=<AddmmBackward>)\n",
            "\n",
            "\n",
            "After ReLU: tensor([[0.0000, 0.3182, 0.0000, 0.6543, 0.0000, 0.3342, 0.4465, 0.3082, 0.0000,\n",
            "         0.0855, 0.4120, 0.0000, 0.0000, 0.3449, 0.3416, 0.0084, 0.0000, 0.4792,\n",
            "         0.0365, 0.0000],\n",
            "        [0.1962, 0.3512, 0.1472, 0.4314, 0.2013, 0.2971, 0.7332, 0.2000, 0.0000,\n",
            "         0.0610, 0.4259, 0.0000, 0.0000, 0.4220, 0.4808, 0.5562, 0.0000, 0.0806,\n",
            "         0.2490, 0.1139],\n",
            "        [0.0000, 0.2450, 0.2255, 0.7021, 0.0000, 0.0000, 0.5473, 0.1059, 0.1038,\n",
            "         0.0000, 0.2983, 0.0000, 0.0000, 0.0268, 0.3487, 0.1554, 0.0000, 0.0709,\n",
            "         0.0076, 0.0000]], grad_fn=<ReluBackward0>)\n"
          ],
          "name": "stdout"
        }
      ]
    },
    {
      "cell_type": "code",
      "metadata": {
        "id": "CvqPwosLuWjD"
      },
      "source": [
        "seq_modules = nn.Sequential(\n",
        "    flatten,\n",
        "    layer1,\n",
        "    nn.ReLU(),\n",
        "    nn.Linear(20, 10)\n",
        ")\n",
        "\n",
        "input_image = torch.rand(3, 28, 28)\n",
        "logits = seq_modules(input_image)\n"
      ],
      "execution_count": 16,
      "outputs": []
    },
    {
      "cell_type": "code",
      "metadata": {
        "id": "7vkJjT1lwiZr"
      },
      "source": [
        "softmax = nn.Softmax(dim=1)\n",
        "pred_probab = softmax(logits)"
      ],
      "execution_count": 18,
      "outputs": []
    },
    {
      "cell_type": "code",
      "metadata": {
        "colab": {
          "base_uri": "https://localhost:8080/"
        },
        "id": "fZMCc55-4N-v",
        "outputId": "8ab68cb9-5267-4f93-e31f-05ab3549c3ad"
      },
      "source": [
        "pred_probab"
      ],
      "execution_count": 19,
      "outputs": [
        {
          "output_type": "execute_result",
          "data": {
            "text/plain": [
              "tensor([[0.1042, 0.0969, 0.0755, 0.1169, 0.0878, 0.1000, 0.1405, 0.1038, 0.0845,\n",
              "         0.0899],\n",
              "        [0.0928, 0.1035, 0.0728, 0.1209, 0.0893, 0.0980, 0.1476, 0.1050, 0.0820,\n",
              "         0.0879],\n",
              "        [0.0928, 0.1003, 0.0758, 0.1367, 0.0862, 0.0898, 0.1432, 0.0958, 0.0804,\n",
              "         0.0991]], grad_fn=<SoftmaxBackward>)"
            ]
          },
          "metadata": {
            "tags": []
          },
          "execution_count": 19
        }
      ]
    },
    {
      "cell_type": "code",
      "metadata": {
        "colab": {
          "base_uri": "https://localhost:8080/"
        },
        "id": "nju24NYz4UC_",
        "outputId": "faff3efd-7132-4989-9973-de200074d027"
      },
      "source": [
        "pred_probab * (100)"
      ],
      "execution_count": 20,
      "outputs": [
        {
          "output_type": "execute_result",
          "data": {
            "text/plain": [
              "tensor([[10.4164,  9.6882,  7.5520, 11.6944,  8.7771, 10.0050, 14.0488, 10.3756,\n",
              "          8.4532,  8.9893],\n",
              "        [ 9.2834, 10.3519,  7.2827, 12.0947,  8.9263,  9.8047, 14.7623, 10.5038,\n",
              "          8.2007,  8.7894],\n",
              "        [ 9.2752, 10.0269,  7.5813, 13.6691,  8.6199,  8.9791, 14.3240,  9.5814,\n",
              "          8.0353,  9.9078]], grad_fn=<MulBackward0>)"
            ]
          },
          "metadata": {
            "tags": []
          },
          "execution_count": 20
        }
      ]
    },
    {
      "cell_type": "code",
      "metadata": {
        "colab": {
          "base_uri": "https://localhost:8080/"
        },
        "id": "bohus65j4lzn",
        "outputId": "c4f26200-9085-4d89-be9d-c81b840cc98b"
      },
      "source": [
        "pred_probab"
      ],
      "execution_count": 22,
      "outputs": [
        {
          "output_type": "execute_result",
          "data": {
            "text/plain": [
              "tensor([[0.1042, 0.0969, 0.0755, 0.1169, 0.0878, 0.1000, 0.1405, 0.1038, 0.0845,\n",
              "         0.0899],\n",
              "        [0.0928, 0.1035, 0.0728, 0.1209, 0.0893, 0.0980, 0.1476, 0.1050, 0.0820,\n",
              "         0.0879],\n",
              "        [0.0928, 0.1003, 0.0758, 0.1367, 0.0862, 0.0898, 0.1432, 0.0958, 0.0804,\n",
              "         0.0991]], grad_fn=<SoftmaxBackward>)"
            ]
          },
          "metadata": {
            "tags": []
          },
          "execution_count": 22
        }
      ]
    },
    {
      "cell_type": "code",
      "metadata": {
        "colab": {
          "base_uri": "https://localhost:8080/"
        },
        "id": "rImtxyWo4sCv",
        "outputId": "ed8db87b-2d26-4597-ca09-8670693f8871"
      },
      "source": [
        "logits"
      ],
      "execution_count": 23,
      "outputs": [
        {
          "output_type": "execute_result",
          "data": {
            "text/plain": [
              "tensor([[ 0.0594, -0.0130, -0.2621,  0.1752, -0.1118,  0.0191,  0.3586,  0.0555,\n",
              "         -0.1494, -0.0879],\n",
              "        [-0.0441,  0.0649, -0.2868,  0.2205, -0.0833,  0.0106,  0.4198,  0.0794,\n",
              "         -0.1681, -0.0988],\n",
              "        [-0.0596,  0.0183, -0.2612,  0.3282, -0.1329, -0.0920,  0.3750, -0.0271,\n",
              "         -0.2031,  0.0064]], grad_fn=<AddmmBackward>)"
            ]
          },
          "metadata": {
            "tags": []
          },
          "execution_count": 23
        }
      ]
    },
    {
      "cell_type": "code",
      "metadata": {
        "colab": {
          "base_uri": "https://localhost:8080/"
        },
        "id": "H1V9onu342dP",
        "outputId": "03726395-1b9d-4449-b4b2-768b0373457a"
      },
      "source": [
        "print(f\"Model structure: {model} \\n\\n\")"
      ],
      "execution_count": 24,
      "outputs": [
        {
          "output_type": "stream",
          "text": [
            "Model structure: NeuralNetwork(\n",
            "  (flatten): Flatten(start_dim=1, end_dim=-1)\n",
            "  (linear_relu_stack): Sequential(\n",
            "    (0): Linear(in_features=784, out_features=512, bias=True)\n",
            "    (1): ReLU()\n",
            "    (2): Linear(in_features=512, out_features=512, bias=True)\n",
            "    (3): ReLU()\n",
            "    (4): Linear(in_features=512, out_features=10, bias=True)\n",
            "    (5): ReLU()\n",
            "  )\n",
            ") \n",
            "\n",
            "\n"
          ],
          "name": "stdout"
        }
      ]
    },
    {
      "cell_type": "code",
      "metadata": {
        "colab": {
          "base_uri": "https://localhost:8080/"
        },
        "id": "q28XiNoC5oav",
        "outputId": "754d8a7c-8355-454b-8bf5-34f7e34c773f"
      },
      "source": [
        "for name, param in model.named_parameters():\n",
        "  print(f\"Layer: {name} | \\n Size: {param.size()} | \\n Values: {param[:2]} \\n\")"
      ],
      "execution_count": 27,
      "outputs": [
        {
          "output_type": "stream",
          "text": [
            "Layer: linear_relu_stack.0.weight | \n",
            " Size: torch.Size([512, 784]) | \n",
            " Values: tensor([[-0.0348, -0.0194,  0.0152,  ...,  0.0206, -0.0316, -0.0035],\n",
            "        [-0.0167, -0.0229, -0.0202,  ...,  0.0225, -0.0014,  0.0317]],\n",
            "       device='cuda:0', grad_fn=<SliceBackward>) \n",
            "\n",
            "Layer: linear_relu_stack.0.bias | \n",
            " Size: torch.Size([512]) | \n",
            " Values: tensor([-0.0281, -0.0232], device='cuda:0', grad_fn=<SliceBackward>) \n",
            "\n",
            "Layer: linear_relu_stack.2.weight | \n",
            " Size: torch.Size([512, 512]) | \n",
            " Values: tensor([[ 0.0106,  0.0160,  0.0121,  ..., -0.0176,  0.0317, -0.0435],\n",
            "        [-0.0372,  0.0243, -0.0362,  ..., -0.0041,  0.0259,  0.0441]],\n",
            "       device='cuda:0', grad_fn=<SliceBackward>) \n",
            "\n",
            "Layer: linear_relu_stack.2.bias | \n",
            " Size: torch.Size([512]) | \n",
            " Values: tensor([ 0.0166, -0.0034], device='cuda:0', grad_fn=<SliceBackward>) \n",
            "\n",
            "Layer: linear_relu_stack.4.weight | \n",
            " Size: torch.Size([10, 512]) | \n",
            " Values: tensor([[-0.0383, -0.0361, -0.0064,  ...,  0.0056, -0.0363, -0.0042],\n",
            "        [ 0.0134,  0.0094,  0.0439,  ..., -0.0177, -0.0375, -0.0103]],\n",
            "       device='cuda:0', grad_fn=<SliceBackward>) \n",
            "\n",
            "Layer: linear_relu_stack.4.bias | \n",
            " Size: torch.Size([10]) | \n",
            " Values: tensor([-0.0094, -0.0112], device='cuda:0', grad_fn=<SliceBackward>) \n",
            "\n"
          ],
          "name": "stdout"
        }
      ]
    },
    {
      "cell_type": "code",
      "metadata": {
        "id": "XIYI4Jcf_cKM"
      },
      "source": [
        ""
      ],
      "execution_count": null,
      "outputs": []
    }
  ]
}