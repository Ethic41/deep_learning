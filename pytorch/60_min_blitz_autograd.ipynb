{
  "nbformat": 4,
  "nbformat_minor": 0,
  "metadata": {
    "colab": {
      "name": "60_min_blitz_autograd.ipynb",
      "provenance": [],
      "authorship_tag": "ABX9TyO5hy3NzaUcwYOXB/4tUwfg",
      "include_colab_link": true
    },
    "kernelspec": {
      "name": "python3",
      "display_name": "Python 3"
    },
    "language_info": {
      "name": "python"
    },
    "widgets": {
      "application/vnd.jupyter.widget-state+json": {
        "79e24717310143788fb14d11a96c9430": {
          "model_module": "@jupyter-widgets/controls",
          "model_name": "HBoxModel",
          "state": {
            "_view_name": "HBoxView",
            "_dom_classes": [],
            "_model_name": "HBoxModel",
            "_view_module": "@jupyter-widgets/controls",
            "_model_module_version": "1.5.0",
            "_view_count": null,
            "_view_module_version": "1.5.0",
            "box_style": "",
            "layout": "IPY_MODEL_b00ee1c8590d4fc282087a0b1f5a8b46",
            "_model_module": "@jupyter-widgets/controls",
            "children": [
              "IPY_MODEL_bce40271e1dc4f4baa274846d7a364a4",
              "IPY_MODEL_968c61d42247462eb115b004bec5564e"
            ]
          }
        },
        "b00ee1c8590d4fc282087a0b1f5a8b46": {
          "model_module": "@jupyter-widgets/base",
          "model_name": "LayoutModel",
          "state": {
            "_view_name": "LayoutView",
            "grid_template_rows": null,
            "right": null,
            "justify_content": null,
            "_view_module": "@jupyter-widgets/base",
            "overflow": null,
            "_model_module_version": "1.2.0",
            "_view_count": null,
            "flex_flow": null,
            "width": null,
            "min_width": null,
            "border": null,
            "align_items": null,
            "bottom": null,
            "_model_module": "@jupyter-widgets/base",
            "top": null,
            "grid_column": null,
            "overflow_y": null,
            "overflow_x": null,
            "grid_auto_flow": null,
            "grid_area": null,
            "grid_template_columns": null,
            "flex": null,
            "_model_name": "LayoutModel",
            "justify_items": null,
            "grid_row": null,
            "max_height": null,
            "align_content": null,
            "visibility": null,
            "align_self": null,
            "height": null,
            "min_height": null,
            "padding": null,
            "grid_auto_rows": null,
            "grid_gap": null,
            "max_width": null,
            "order": null,
            "_view_module_version": "1.2.0",
            "grid_template_areas": null,
            "object_position": null,
            "object_fit": null,
            "grid_auto_columns": null,
            "margin": null,
            "display": null,
            "left": null
          }
        },
        "bce40271e1dc4f4baa274846d7a364a4": {
          "model_module": "@jupyter-widgets/controls",
          "model_name": "FloatProgressModel",
          "state": {
            "_view_name": "ProgressView",
            "style": "IPY_MODEL_95a3c83f2ac147648a93e58d5d423f33",
            "_dom_classes": [],
            "description": "100%",
            "_model_name": "FloatProgressModel",
            "bar_style": "success",
            "max": 46830571,
            "_view_module": "@jupyter-widgets/controls",
            "_model_module_version": "1.5.0",
            "value": 46830571,
            "_view_count": null,
            "_view_module_version": "1.5.0",
            "orientation": "horizontal",
            "min": 0,
            "description_tooltip": null,
            "_model_module": "@jupyter-widgets/controls",
            "layout": "IPY_MODEL_93badc3162f64ef4a7327bfb0913b087"
          }
        },
        "968c61d42247462eb115b004bec5564e": {
          "model_module": "@jupyter-widgets/controls",
          "model_name": "HTMLModel",
          "state": {
            "_view_name": "HTMLView",
            "style": "IPY_MODEL_e886342d01d440408ecc9062161b7c95",
            "_dom_classes": [],
            "description": "",
            "_model_name": "HTMLModel",
            "placeholder": "​",
            "_view_module": "@jupyter-widgets/controls",
            "_model_module_version": "1.5.0",
            "value": " 44.7M/44.7M [00:00&lt;00:00, 60.3MB/s]",
            "_view_count": null,
            "_view_module_version": "1.5.0",
            "description_tooltip": null,
            "_model_module": "@jupyter-widgets/controls",
            "layout": "IPY_MODEL_a962aa674d79403db0701572d09d971e"
          }
        },
        "95a3c83f2ac147648a93e58d5d423f33": {
          "model_module": "@jupyter-widgets/controls",
          "model_name": "ProgressStyleModel",
          "state": {
            "_view_name": "StyleView",
            "_model_name": "ProgressStyleModel",
            "description_width": "initial",
            "_view_module": "@jupyter-widgets/base",
            "_model_module_version": "1.5.0",
            "_view_count": null,
            "_view_module_version": "1.2.0",
            "bar_color": null,
            "_model_module": "@jupyter-widgets/controls"
          }
        },
        "93badc3162f64ef4a7327bfb0913b087": {
          "model_module": "@jupyter-widgets/base",
          "model_name": "LayoutModel",
          "state": {
            "_view_name": "LayoutView",
            "grid_template_rows": null,
            "right": null,
            "justify_content": null,
            "_view_module": "@jupyter-widgets/base",
            "overflow": null,
            "_model_module_version": "1.2.0",
            "_view_count": null,
            "flex_flow": null,
            "width": null,
            "min_width": null,
            "border": null,
            "align_items": null,
            "bottom": null,
            "_model_module": "@jupyter-widgets/base",
            "top": null,
            "grid_column": null,
            "overflow_y": null,
            "overflow_x": null,
            "grid_auto_flow": null,
            "grid_area": null,
            "grid_template_columns": null,
            "flex": null,
            "_model_name": "LayoutModel",
            "justify_items": null,
            "grid_row": null,
            "max_height": null,
            "align_content": null,
            "visibility": null,
            "align_self": null,
            "height": null,
            "min_height": null,
            "padding": null,
            "grid_auto_rows": null,
            "grid_gap": null,
            "max_width": null,
            "order": null,
            "_view_module_version": "1.2.0",
            "grid_template_areas": null,
            "object_position": null,
            "object_fit": null,
            "grid_auto_columns": null,
            "margin": null,
            "display": null,
            "left": null
          }
        },
        "e886342d01d440408ecc9062161b7c95": {
          "model_module": "@jupyter-widgets/controls",
          "model_name": "DescriptionStyleModel",
          "state": {
            "_view_name": "StyleView",
            "_model_name": "DescriptionStyleModel",
            "description_width": "",
            "_view_module": "@jupyter-widgets/base",
            "_model_module_version": "1.5.0",
            "_view_count": null,
            "_view_module_version": "1.2.0",
            "_model_module": "@jupyter-widgets/controls"
          }
        },
        "a962aa674d79403db0701572d09d971e": {
          "model_module": "@jupyter-widgets/base",
          "model_name": "LayoutModel",
          "state": {
            "_view_name": "LayoutView",
            "grid_template_rows": null,
            "right": null,
            "justify_content": null,
            "_view_module": "@jupyter-widgets/base",
            "overflow": null,
            "_model_module_version": "1.2.0",
            "_view_count": null,
            "flex_flow": null,
            "width": null,
            "min_width": null,
            "border": null,
            "align_items": null,
            "bottom": null,
            "_model_module": "@jupyter-widgets/base",
            "top": null,
            "grid_column": null,
            "overflow_y": null,
            "overflow_x": null,
            "grid_auto_flow": null,
            "grid_area": null,
            "grid_template_columns": null,
            "flex": null,
            "_model_name": "LayoutModel",
            "justify_items": null,
            "grid_row": null,
            "max_height": null,
            "align_content": null,
            "visibility": null,
            "align_self": null,
            "height": null,
            "min_height": null,
            "padding": null,
            "grid_auto_rows": null,
            "grid_gap": null,
            "max_width": null,
            "order": null,
            "_view_module_version": "1.2.0",
            "grid_template_areas": null,
            "object_position": null,
            "object_fit": null,
            "grid_auto_columns": null,
            "margin": null,
            "display": null,
            "left": null
          }
        }
      }
    }
  },
  "cells": [
    {
      "cell_type": "markdown",
      "metadata": {
        "id": "view-in-github",
        "colab_type": "text"
      },
      "source": [
        "<a href=\"https://colab.research.google.com/github/Ethic41/deep_learning/blob/master/pytorch/60_min_blitz_autograd.ipynb\" target=\"_parent\"><img src=\"https://colab.research.google.com/assets/colab-badge.svg\" alt=\"Open In Colab\"/></a>"
      ]
    },
    {
      "cell_type": "code",
      "metadata": {
        "colab": {
          "base_uri": "https://localhost:8080/",
          "height": 83,
          "referenced_widgets": [
            "79e24717310143788fb14d11a96c9430",
            "b00ee1c8590d4fc282087a0b1f5a8b46",
            "bce40271e1dc4f4baa274846d7a364a4",
            "968c61d42247462eb115b004bec5564e",
            "95a3c83f2ac147648a93e58d5d423f33",
            "93badc3162f64ef4a7327bfb0913b087",
            "e886342d01d440408ecc9062161b7c95",
            "a962aa674d79403db0701572d09d971e"
          ]
        },
        "id": "ba6auD8nJgV2",
        "outputId": "8ea5eba1-a22a-47c4-a329-629893719133"
      },
      "source": [
        "import torch, torchvision\n",
        "model = torchvision.models.resnet18(pretrained=True)\n",
        "data = torch.rand(1, 3, 64, 64)\n",
        "labels = torch.rand(1, 1000)"
      ],
      "execution_count": 1,
      "outputs": [
        {
          "output_type": "stream",
          "text": [
            "Downloading: \"https://download.pytorch.org/models/resnet18-f37072fd.pth\" to /root/.cache/torch/hub/checkpoints/resnet18-f37072fd.pth\n"
          ],
          "name": "stderr"
        },
        {
          "output_type": "display_data",
          "data": {
            "application/vnd.jupyter.widget-view+json": {
              "model_id": "79e24717310143788fb14d11a96c9430",
              "version_minor": 0,
              "version_major": 2
            },
            "text/plain": [
              "HBox(children=(FloatProgress(value=0.0, max=46830571.0), HTML(value='')))"
            ]
          },
          "metadata": {
            "tags": []
          }
        },
        {
          "output_type": "stream",
          "text": [
            "\n"
          ],
          "name": "stdout"
        }
      ]
    },
    {
      "cell_type": "code",
      "metadata": {
        "colab": {
          "base_uri": "https://localhost:8080/"
        },
        "id": "IiIl6kOcM2PB",
        "outputId": "d44c9108-c364-44ef-afbd-42f2dc07fea4"
      },
      "source": [
        "prediction = model(data) # forward pass"
      ],
      "execution_count": 2,
      "outputs": [
        {
          "output_type": "stream",
          "text": [
            "/usr/local/lib/python3.7/dist-packages/torch/nn/functional.py:718: UserWarning: Named tensors and all their associated APIs are an experimental feature and subject to change. Please do not use them for anything important until they are released as stable. (Triggered internally at  /pytorch/c10/core/TensorImpl.h:1156.)\n",
            "  return torch.max_pool2d(input, kernel_size, stride, padding, dilation, ceil_mode)\n"
          ],
          "name": "stderr"
        }
      ]
    },
    {
      "cell_type": "code",
      "metadata": {
        "colab": {
          "base_uri": "https://localhost:8080/"
        },
        "id": "6Z9XDIwbRJ6R",
        "outputId": "2ae75169-a50a-40ef-d628-029f0445909d"
      },
      "source": [
        "prediction"
      ],
      "execution_count": 3,
      "outputs": [
        {
          "output_type": "execute_result",
          "data": {
            "text/plain": [
              "tensor([[-6.4275e-01, -3.4874e-01, -6.1863e-01, -1.8330e+00, -7.9070e-01,\n",
              "         -3.2219e-01, -7.3042e-01,  3.1912e-01,  4.2796e-01, -9.5003e-01,\n",
              "         -5.7639e-01, -6.3811e-01, -2.6655e-01, -7.4055e-01, -9.5519e-01,\n",
              "         -3.7959e-01, -6.0958e-01,  1.0408e-01, -4.5941e-01, -8.5270e-02,\n",
              "         -1.3625e+00, -5.8274e-01, -1.5320e+00,  1.4994e-01, -7.2732e-01,\n",
              "         -9.6716e-01, -5.2450e-01, -1.1003e+00, -6.7527e-01, -5.1093e-01,\n",
              "         -6.1848e-01, -7.7200e-01, -2.7254e-01, -3.5815e-01, -2.8203e-01,\n",
              "         -3.1132e-01,  7.4389e-01, -5.0749e-01, -3.0859e-01,  1.0761e-01,\n",
              "         -8.2870e-01, -7.6765e-01, -1.0311e+00, -1.4702e-01, -5.1129e-01,\n",
              "         -2.9439e-01, -8.2587e-01, -6.6087e-01, -1.1274e+00, -8.1793e-01,\n",
              "         -2.3983e-01,  5.4032e-01, -9.4663e-02, -4.3646e-01, -6.1498e-02,\n",
              "         -9.5991e-01, -1.7574e-01, -1.1330e+00, -3.2107e-01, -4.4559e-01,\n",
              "          9.0547e-01,  2.6720e-02, -5.9218e-02,  5.7431e-02, -7.6162e-01,\n",
              "         -1.8247e-01, -3.5138e-01, -3.7982e-01, -8.5766e-01, -9.8864e-01,\n",
              "         -1.4909e+00,  1.0084e-01, -1.2218e+00, -2.1454e-01, -9.0214e-01,\n",
              "         -1.2086e+00,  2.3123e-01, -4.3824e-01,  2.9798e-01,  2.6817e-01,\n",
              "         -1.2417e+00, -1.4699e+00, -7.3584e-02, -8.1094e-01, -6.5054e-01,\n",
              "         -4.4052e-02,  9.6605e-02,  3.5220e-01,  2.9777e-01, -5.4856e-01,\n",
              "         -1.1374e+00, -1.1044e+00, -1.5131e+00, -2.7478e-01,  9.1584e-02,\n",
              "         -1.9730e+00, -6.6147e-01, -2.9572e-01, -1.2427e+00, -3.5319e-01,\n",
              "         -1.4427e+00, -1.2561e+00, -9.9578e-01, -3.9143e-01, -1.8758e-01,\n",
              "         -5.5666e-01, -4.0190e-01, -1.2700e+00, -1.1569e+00, -1.5005e+00,\n",
              "         -1.2819e+00, -8.8512e-01,  1.1875e+00,  4.6850e-01,  1.8667e-01,\n",
              "         -1.0925e+00, -7.3518e-01, -4.1960e-01,  7.5587e-01, -1.6696e-01,\n",
              "         -6.0215e-01,  1.3546e-01,  4.3659e-01,  2.2294e-01,  1.3915e+00,\n",
              "          1.2225e-01,  5.9469e-01, -1.3380e+00, -1.3009e+00, -8.0178e-01,\n",
              "         -1.3489e+00, -1.4434e+00, -7.8783e-01, -1.2198e+00, -6.4042e-01,\n",
              "         -1.5492e+00, -1.2039e+00, -1.2994e+00, -1.2644e+00, -1.2420e+00,\n",
              "         -1.5071e+00, -1.5956e+00, -2.1575e+00, -1.6153e+00, -5.9904e-01,\n",
              "         -1.9986e-01, -1.0593e+00, -2.0113e+00, -1.4543e+00, -1.3966e+00,\n",
              "          3.7892e-01,  1.6323e+00, -9.3637e-01, -5.9414e-01,  5.0325e-02,\n",
              "          6.5151e-02, -3.4756e-01,  2.9746e-02,  1.8707e-01,  1.9894e-01,\n",
              "          4.1403e-01,  7.4264e-01,  3.8606e-01,  5.2127e-01,  1.8994e-01,\n",
              "         -3.4891e-01, -1.5825e-01, -4.0723e-01,  5.2092e-01, -1.1576e-01,\n",
              "         -2.0931e-01,  7.7768e-01,  5.3895e-01,  3.2634e-01,  1.6135e-01,\n",
              "         -7.8067e-01,  6.9951e-02, -3.1928e-02,  5.3649e-01,  5.7726e-01,\n",
              "          6.4077e-01,  3.5995e-02,  3.8857e-01,  8.9996e-02,  6.2970e-01,\n",
              "          4.0852e-01,  4.4923e-01, -1.4642e-02,  1.8086e-01,  5.7812e-01,\n",
              "         -4.6079e-01,  3.4165e-01,  2.9170e-01,  2.6246e-01, -8.8028e-01,\n",
              "          5.5517e-01,  1.4167e-02,  1.3917e-01,  2.7442e-01,  6.3841e-01,\n",
              "          1.6232e-01,  2.5290e-01,  5.7279e-01,  2.8086e-01, -4.2199e-02,\n",
              "          2.2005e-01,  3.5680e-02,  4.6355e-01,  1.3098e+00,  5.3176e-01,\n",
              "         -2.5971e-01,  3.8276e-01,  6.4868e-01,  1.0683e-01,  8.2421e-02,\n",
              "          5.0640e-01,  8.2613e-02,  2.7729e-01, -2.9865e-01,  6.3453e-01,\n",
              "          1.5355e-02, -6.7734e-02,  1.7579e-01,  6.1760e-01,  1.5390e-01,\n",
              "          3.6175e-01,  2.1719e-01,  7.6138e-01, -2.6891e-01, -2.7733e-01,\n",
              "          9.9365e-02,  3.8998e-01,  3.3465e-01, -4.9292e-02,  6.6115e-01,\n",
              "          7.0040e-01,  2.9086e-01,  2.9546e-01,  7.4955e-01, -1.0271e-01,\n",
              "          4.7780e-01, -1.3552e-01,  5.9614e-01,  3.0511e-01, -2.8256e-01,\n",
              "          3.5600e-01,  2.7138e-01,  3.7489e-02,  8.2528e-01,  1.6873e-01,\n",
              "          5.4295e-01,  5.3384e-01, -9.4822e-01,  6.2757e-01,  9.4541e-01,\n",
              "         -6.7579e-01,  3.3122e-01,  8.8864e-02, -2.5984e-01,  2.9175e-01,\n",
              "         -1.5713e-01, -6.7191e-01, -2.1268e-01,  2.2871e-01,  6.4126e-01,\n",
              "          8.6624e-01,  3.6898e-01,  7.7491e-01, -1.1161e-01, -1.2678e-01,\n",
              "         -8.4577e-01, -8.3777e-01, -4.8371e-01,  6.2204e-01, -1.0125e+00,\n",
              "         -1.0544e+00, -1.0355e+00, -6.0203e-01, -1.1424e+00, -3.6383e-01,\n",
              "         -3.4127e-01,  7.1456e-01,  8.3484e-01, -1.8840e-02,  2.7889e-01,\n",
              "          8.2211e-01, -8.9426e-02, -2.4534e-01, -8.0233e-01, -1.5855e+00,\n",
              "         -1.0248e+00, -1.4171e+00, -2.3982e-01, -1.2398e+00, -7.4451e-01,\n",
              "         -6.5394e-01, -7.5475e-01, -1.1011e+00, -3.6487e-01, -1.1150e-01,\n",
              "         -1.9845e+00, -6.6947e-01, -3.6329e-01, -2.4639e-02, -8.9501e-01,\n",
              "         -8.2378e-01,  3.5328e-01, -5.9612e-01, -1.1929e+00, -2.3082e-01,\n",
              "          4.8972e-01, -5.3011e-02, -1.4417e-01,  3.5385e-01,  9.9330e-01,\n",
              "         -5.8576e-01, -8.0453e-01, -1.0140e+00, -1.2454e+00, -4.9416e-01,\n",
              "         -1.3876e+00, -7.4625e-01, -1.2722e+00, -1.5451e+00, -1.4312e+00,\n",
              "         -1.4583e+00, -1.2424e+00, -6.8619e-02, -7.9965e-02, -3.7872e-01,\n",
              "         -1.2485e-01, -1.4331e-01,  7.7184e-02,  3.5169e-01, -8.1207e-01,\n",
              "         -6.9578e-01, -1.4865e+00,  3.5871e-02,  5.8151e-01, -1.0135e+00,\n",
              "         -5.6620e-01,  1.1382e+00,  3.7171e-02, -8.1452e-01, -4.9469e-01,\n",
              "          9.5657e-01, -5.5733e-01, -1.3179e+00,  3.7870e-01, -1.0297e+00,\n",
              "         -8.5412e-01, -1.9337e+00, -1.2929e+00, -7.4597e-01, -6.0835e-01,\n",
              "          5.9476e-01,  1.0235e+00, -6.2784e-02,  3.7864e-01,  4.4966e-01,\n",
              "         -2.6695e-01,  4.0667e-01,  1.2701e-01,  3.2087e-01, -4.4741e-01,\n",
              "         -3.3232e-01, -9.5425e-01, -3.0509e-01, -9.0516e-01, -7.2289e-01,\n",
              "         -6.3783e-01, -3.1470e-01, -3.3523e-01, -3.5015e-02, -3.1964e-01,\n",
              "         -9.6885e-01, -1.0433e+00,  1.7274e-01, -5.9454e-01, -6.2191e-01,\n",
              "          2.9178e-01, -1.7850e-01, -1.4583e-01, -4.1174e-01, -6.3768e-01,\n",
              "         -6.4182e-01, -1.0901e+00, -1.0488e+00, -1.0232e+00, -3.1369e-03,\n",
              "          6.2849e-01,  3.7874e-01, -1.5151e+00, -1.7958e+00, -5.4396e-02,\n",
              "          7.9534e-01, -1.0319e+00, -6.1167e-01,  4.8140e-01, -1.7268e-01,\n",
              "         -6.1701e-01,  1.0226e+00,  5.2289e-02, -2.5141e+00, -2.0505e+00,\n",
              "         -7.8332e-01, -1.1516e-02, -6.0241e-01, -2.7452e-01,  7.7173e-01,\n",
              "          9.0774e-02,  1.2952e-01,  1.7742e+00,  8.7306e-01,  4.0890e-01,\n",
              "          1.0178e+00, -6.7014e-01,  3.3220e-01,  5.2581e-01,  8.7941e-01,\n",
              "          7.1414e-01,  1.2669e+00, -2.9137e-01,  1.4999e-01,  3.6530e-01,\n",
              "         -9.7583e-01,  1.0844e-01,  1.3565e+00,  1.4147e+00,  4.0727e-01,\n",
              "         -1.1372e+00, -5.6518e-02,  4.1346e-01,  4.2986e-01,  3.9543e-01,\n",
              "          8.6842e-01, -3.5789e-01, -4.6420e-01,  4.6602e-01,  5.8198e-01,\n",
              "          8.1754e-01,  5.8900e-01,  1.8022e-01, -5.3451e-01, -4.4375e-01,\n",
              "          1.6720e-01,  4.5063e-01,  1.1369e+00,  7.9886e-01, -5.4506e-01,\n",
              "         -1.5903e-01,  3.2712e-01,  6.5982e-01,  3.5435e-02, -3.4129e-01,\n",
              "          6.9708e-01,  1.7558e+00,  1.1703e+00,  4.2157e-03,  6.3640e-01,\n",
              "         -1.0122e+00,  8.3103e-01,  1.3968e+00,  2.3458e+00,  7.3178e-01,\n",
              "         -1.9434e-01, -1.4285e+00,  6.9851e-02, -1.2153e-01,  1.6330e+00,\n",
              "          1.0682e+00,  4.6874e-01, -1.2330e-01,  8.4601e-01, -8.2782e-05,\n",
              "         -2.0085e-01,  2.5796e-01,  5.6057e-01,  6.9363e-01,  9.2012e-02,\n",
              "          1.1699e-01,  3.8211e-01,  2.1660e-01, -1.1158e+00, -1.3968e+00,\n",
              "         -2.1130e-01, -4.4618e-01,  1.4018e+00,  1.7884e+00,  1.0142e+00,\n",
              "          3.6972e-01,  9.1235e-01,  8.9711e-01, -8.0448e-01,  1.0175e+00,\n",
              "         -8.8141e-01, -1.2217e-01, -3.1607e-01, -1.3248e-01,  1.3769e+00,\n",
              "         -1.5118e+00,  5.0915e-01,  1.0956e+00,  3.6370e-01,  1.0562e+00,\n",
              "          1.1247e+00,  1.2873e+00,  7.1459e-01,  4.2910e-01,  3.9543e-01,\n",
              "         -1.2340e+00, -1.0702e+00,  9.0200e-01,  5.1755e-01,  9.6062e-01,\n",
              "          1.6044e+00,  5.1237e-01, -3.5960e-02,  1.2202e+00,  6.9040e-01,\n",
              "         -5.1756e-01,  3.2773e-01,  7.9256e-01,  1.4461e+00,  5.2420e-01,\n",
              "         -7.6863e-01, -3.1759e-02, -6.2640e-01,  1.0026e-01,  2.4214e-01,\n",
              "          7.5035e-01,  5.3917e-02, -1.0160e-01, -7.9558e-01,  1.5284e-01,\n",
              "         -9.9307e-01, -3.7959e-01, -3.1862e-01,  3.8132e-01,  1.2679e+00,\n",
              "         -1.3040e+00,  1.3850e+00,  9.0673e-01,  5.4357e-01,  4.9289e-01,\n",
              "          7.7609e-01,  4.2049e-01, -2.0194e+00, -1.1260e+00, -2.7956e-03,\n",
              "         -4.9531e-01,  1.1095e-01,  8.0487e-01, -1.9698e-01, -1.2423e+00,\n",
              "         -6.9650e-01,  4.8606e-01,  3.8222e-01,  1.3128e+00,  5.4929e-01,\n",
              "         -5.9724e-02, -1.3757e-02,  1.2051e+00,  2.3824e-01, -1.0928e+00,\n",
              "         -8.2004e-01,  1.3975e-01,  7.9845e-01,  6.1379e-01, -7.9172e-01,\n",
              "          1.2800e+00,  3.4125e-02,  7.7304e-01, -9.0404e-01,  4.4592e-01,\n",
              "         -4.4851e-01, -1.0803e+00,  9.1073e-01,  2.9829e-01,  3.1953e-02,\n",
              "          1.3094e-01, -1.4489e-01,  7.6099e-01,  8.1742e-01,  1.0776e+00,\n",
              "          7.4643e-01, -4.7436e-01,  1.7012e+00,  8.0680e-01,  1.0466e+00,\n",
              "         -5.1296e-01,  7.1912e-01, -6.2484e-01,  7.7874e-01,  1.8444e-01,\n",
              "         -5.9830e-01,  1.0512e+00, -2.9823e-01, -6.5882e-01,  1.1528e+00,\n",
              "          2.1777e+00, -7.4257e-03, -4.6240e-01, -3.3259e-01,  5.6321e-01,\n",
              "          2.0018e-01,  1.2468e+00, -4.8787e-01,  5.3182e-01, -1.9773e-01,\n",
              "          9.5394e-01,  7.7707e-01, -5.9057e-01,  3.3571e-01, -1.1338e-01,\n",
              "          1.2350e-02,  1.2904e+00,  7.5209e-01,  1.7856e+00,  9.0667e-01,\n",
              "          9.9706e-01,  5.0069e-01,  1.5699e-01,  4.7042e-01, -3.1344e-02,\n",
              "         -1.0968e+00,  1.1045e+00, -5.3462e-01, -1.2955e+00,  2.2762e-01,\n",
              "         -9.8557e-02,  9.0133e-01,  6.6304e-01,  1.3784e+00, -2.0714e-01,\n",
              "          1.5262e-01,  1.3867e+00,  6.8150e-01,  5.4880e-01, -1.3308e-01,\n",
              "         -1.7249e+00,  9.2073e-01, -2.2411e-02,  1.6650e+00,  7.8638e-01,\n",
              "         -8.2414e-01,  2.8471e-01,  4.3016e-01, -6.6730e-01, -1.5735e+00,\n",
              "          8.5455e-01,  5.8057e-02,  7.7608e-01,  8.1908e-01, -3.4965e-01,\n",
              "          4.9984e-01, -1.0756e-01, -3.5917e-02,  1.9963e-01,  5.1159e-01,\n",
              "         -3.6507e-01, -1.1877e+00, -3.1116e-01, -8.1570e-01,  1.0161e+00,\n",
              "         -1.6337e-01,  1.3442e+00,  2.6190e-01, -8.8536e-01, -2.5948e-01,\n",
              "          7.5308e-02, -3.7897e-01, -1.9590e-01,  5.1608e-01,  1.3543e+00,\n",
              "         -9.3220e-01,  1.6560e+00,  1.1741e+00,  9.0348e-01,  5.1050e-01,\n",
              "          6.4942e-01,  6.8914e-01, -6.8827e-01,  3.8630e-01,  5.5905e-01,\n",
              "         -1.4733e+00, -5.7101e-02, -7.8276e-01, -3.2004e-01, -6.5196e-01,\n",
              "         -4.1351e-01,  6.6053e-01,  9.4523e-01,  3.5475e-01, -9.2409e-01,\n",
              "          9.3342e-01,  1.6564e+00,  8.1446e-02, -2.6572e-01,  7.7365e-01,\n",
              "          2.0094e+00, -1.2653e-01, -6.2720e-01,  4.3598e-01,  3.9419e-01,\n",
              "         -6.9190e-01, -5.3275e-01, -1.8549e-01,  1.0014e+00,  2.6734e-01,\n",
              "          1.2278e+00,  9.5820e-01,  5.4918e-02, -4.5648e-01,  3.5068e-01,\n",
              "         -4.2775e-01,  5.3165e-01, -8.1427e-01, -5.6739e-01,  6.5002e-01,\n",
              "          3.4372e-01,  4.2732e-01,  1.1157e+00,  6.3986e-02, -5.4903e-01,\n",
              "          1.2000e+00, -6.7491e-01, -4.4962e-01,  1.2921e+00, -6.1402e-01,\n",
              "          3.7900e-01,  2.0233e+00, -6.6726e-01,  1.7686e+00, -1.5579e+00,\n",
              "          3.2102e-01, -3.2393e-01,  6.7005e-01,  9.4768e-01,  2.5618e-01,\n",
              "          1.1112e+00, -2.4020e-02,  4.6654e-01,  2.5123e-01,  5.1469e-01,\n",
              "          8.7652e-02, -2.0985e-01,  1.3377e-01,  8.1870e-01,  1.5565e+00,\n",
              "          6.5910e-01, -3.1178e-01, -1.8626e-03,  7.1169e-01,  9.6702e-01,\n",
              "         -8.3883e-01,  1.0460e+00, -5.1118e-01,  1.2555e+00, -2.2163e-01,\n",
              "          1.1189e-01,  6.1822e-01,  2.8956e-01,  8.1353e-01,  1.6382e+00,\n",
              "          7.1002e-01,  7.1534e-01,  4.7623e-01, -2.7530e-01,  1.1687e+00,\n",
              "          3.3565e-01,  6.5745e-01,  1.6227e+00,  6.8704e-01,  7.1548e-01,\n",
              "          3.3007e-01,  6.3068e-01,  5.2995e-01,  1.4120e+00, -9.3440e-01,\n",
              "         -9.0630e-01, -8.8749e-01,  9.4767e-01,  1.1080e+00,  1.7424e+00,\n",
              "          2.6269e-01,  6.6987e-01,  1.2680e+00,  1.8882e-01,  2.7148e-02,\n",
              "          2.6140e-01,  8.0968e-01,  1.4294e+00,  8.6372e-01,  3.0333e-01,\n",
              "          2.7023e-01,  1.1081e+00,  5.4777e-01, -6.8242e-01,  3.6146e-01,\n",
              "         -6.9933e-01,  1.2729e-01, -9.0532e-01, -9.9758e-01,  1.1703e+00,\n",
              "          1.0312e+00,  1.9349e-01,  3.1074e-01,  1.3634e+00, -2.4672e-02,\n",
              "         -4.4986e-01,  1.1825e+00, -5.2498e-01,  1.2507e+00, -1.1004e+00,\n",
              "         -2.1154e-01,  4.7053e-01, -1.3049e+00,  1.6466e+00,  2.8426e-01,\n",
              "         -1.6793e+00, -1.2757e+00,  2.6206e-01,  7.1053e-01,  1.0378e+00,\n",
              "         -9.1024e-01,  2.5668e-01,  1.0924e+00,  9.3122e-01, -5.4099e-01,\n",
              "          9.2315e-01,  2.5013e-01, -3.2022e-01, -1.2022e+00,  8.8016e-02,\n",
              "          3.2987e-01,  1.5164e+00,  1.5787e+00,  1.0161e+00, -7.2140e-01,\n",
              "          1.3891e+00,  3.7859e-01,  2.0114e-01,  2.3051e-01,  6.9199e-01,\n",
              "          1.6790e+00,  7.9663e-01, -5.0393e-01,  4.0060e-01,  1.1493e+00,\n",
              "          1.5708e+00,  1.4449e+00,  2.0161e+00, -6.8737e-01, -2.9249e-01,\n",
              "          7.5781e-01, -5.4070e-01, -3.5216e-02, -2.1966e-01,  9.5592e-01,\n",
              "          2.8293e-01,  1.1281e+00,  8.7303e-01,  2.6790e-01, -2.3718e-01,\n",
              "          6.7752e-01,  1.3155e-02, -4.2441e-01,  1.3997e+00, -6.2579e-01,\n",
              "          7.2600e-01, -1.3906e+00,  1.1280e+00, -9.5245e-01, -2.2934e+00,\n",
              "          5.3812e-01,  1.5874e+00, -2.0384e-01, -9.1002e-02,  1.6380e+00,\n",
              "          7.1635e-01, -3.2889e-01,  9.6303e-01,  1.2720e+00,  2.4514e-01,\n",
              "          2.1300e-02, -2.3554e-01, -1.1872e-01, -1.2410e+00,  4.0307e-01,\n",
              "         -3.2014e-01,  1.5870e-01,  5.2081e-01,  1.6254e-01, -6.2416e-01,\n",
              "         -7.3118e-01,  1.1380e+00,  7.8234e-01,  1.9448e+00,  1.9468e+00,\n",
              "         -1.1135e+00, -4.4867e-01,  1.4494e+00,  1.0621e+00,  9.3924e-01,\n",
              "          6.4952e-02, -4.8903e-01,  1.0905e+00, -8.3887e-01,  8.0163e-01,\n",
              "          1.1385e+00,  1.3091e+00,  6.7521e-01, -2.3044e-01, -1.8719e+00,\n",
              "         -2.0143e-01,  1.8603e-01,  3.8349e-01,  3.9817e-01, -7.1501e-02,\n",
              "         -4.1669e-01,  1.2756e+00, -4.6589e-01,  5.2517e-01, -3.3594e-01,\n",
              "         -9.7120e-01, -1.2504e+00, -4.2573e-01,  1.8675e-01,  1.2771e+00,\n",
              "         -3.1591e-01,  1.6061e-01,  6.1331e-01, -1.6986e+00,  3.0172e-02,\n",
              "         -4.7800e-01,  4.0278e-01, -2.0941e-02, -7.2753e-02, -4.5853e-01,\n",
              "         -4.2042e-01, -9.6268e-01, -4.1069e-01, -7.5439e-02, -5.2445e-01,\n",
              "         -1.0421e+00, -1.1432e+00,  3.1839e-01,  7.5632e-01, -4.0093e-01,\n",
              "          1.5369e-01, -6.1948e-01, -8.6561e-01,  5.9152e-02,  7.5626e-01,\n",
              "         -6.1378e-01, -2.0346e-01, -3.9775e-01, -7.6334e-02, -1.2119e+00,\n",
              "          4.1944e-01,  5.1092e-01, -3.7847e-01, -6.7218e-01, -1.4358e+00,\n",
              "         -2.4484e-01,  4.6200e-01, -5.7677e-01,  8.7347e-01,  2.3515e-02,\n",
              "         -7.9244e-02,  1.2075e+00, -3.7231e-01, -5.5415e-01, -1.8428e+00,\n",
              "          8.9884e-01, -1.6539e+00,  1.9403e-01,  3.2111e-03, -6.5753e-01,\n",
              "         -3.8520e-01, -3.9032e-02,  6.1337e-01, -6.2734e-01, -7.9244e-01,\n",
              "         -1.3137e+00, -2.2594e+00,  1.5311e+00, -3.2797e-02, -7.2701e-01,\n",
              "         -1.7784e-01, -1.3708e+00, -1.0166e+00, -1.9524e+00, -6.5262e-01,\n",
              "         -3.5232e-01,  3.4123e-02, -5.6306e-01,  1.3123e+00,  1.2379e+00]],\n",
              "       grad_fn=<AddmmBackward>)"
            ]
          },
          "metadata": {
            "tags": []
          },
          "execution_count": 3
        }
      ]
    },
    {
      "cell_type": "code",
      "metadata": {
        "colab": {
          "base_uri": "https://localhost:8080/"
        },
        "id": "ULOii3OlRO3X",
        "outputId": "21ddbd70-93f1-44cf-ff33-6d1a6f0da7cd"
      },
      "source": [
        "prediction.shape"
      ],
      "execution_count": 4,
      "outputs": [
        {
          "output_type": "execute_result",
          "data": {
            "text/plain": [
              "torch.Size([1, 1000])"
            ]
          },
          "metadata": {
            "tags": []
          },
          "execution_count": 4
        }
      ]
    },
    {
      "cell_type": "code",
      "metadata": {
        "id": "6UD6hDNFRaAl"
      },
      "source": [
        "loss = (prediction - labels).sum()"
      ],
      "execution_count": 6,
      "outputs": []
    },
    {
      "cell_type": "code",
      "metadata": {
        "colab": {
          "base_uri": "https://localhost:8080/"
        },
        "id": "7tayWnvMR4I0",
        "outputId": "d9fcd0c1-fa0c-4b6d-e236-ae754f907c19"
      },
      "source": [
        "loss.shape"
      ],
      "execution_count": 7,
      "outputs": [
        {
          "output_type": "execute_result",
          "data": {
            "text/plain": [
              "torch.Size([])"
            ]
          },
          "metadata": {
            "tags": []
          },
          "execution_count": 7
        }
      ]
    },
    {
      "cell_type": "code",
      "metadata": {
        "colab": {
          "base_uri": "https://localhost:8080/"
        },
        "id": "zs07uoYZR-Fs",
        "outputId": "1deaebd8-14c9-425b-8c7c-52d326fd4ec3"
      },
      "source": [
        "loss"
      ],
      "execution_count": 8,
      "outputs": [
        {
          "output_type": "execute_result",
          "data": {
            "text/plain": [
              "tensor(-504.6375, grad_fn=<SumBackward0>)"
            ]
          },
          "metadata": {
            "tags": []
          },
          "execution_count": 8
        }
      ]
    },
    {
      "cell_type": "code",
      "metadata": {
        "id": "QwpggvW3SAHt"
      },
      "source": [
        "loss.backward()"
      ],
      "execution_count": 9,
      "outputs": []
    },
    {
      "cell_type": "code",
      "metadata": {
        "id": "asbka_sMSEVu"
      },
      "source": [
        "optim = torch.optim.SGD(model.parameters(), lr=1e-2, momentum=0.9)"
      ],
      "execution_count": 10,
      "outputs": []
    },
    {
      "cell_type": "code",
      "metadata": {
        "colab": {
          "base_uri": "https://localhost:8080/"
        },
        "id": "iXycAHX2SzR1",
        "outputId": "6ac27614-c762-4875-e1f3-fb1ecc69c62b"
      },
      "source": [
        "optim"
      ],
      "execution_count": 11,
      "outputs": [
        {
          "output_type": "execute_result",
          "data": {
            "text/plain": [
              "SGD (\n",
              "Parameter Group 0\n",
              "    dampening: 0\n",
              "    lr: 0.01\n",
              "    momentum: 0.9\n",
              "    nesterov: False\n",
              "    weight_decay: 0\n",
              ")"
            ]
          },
          "metadata": {
            "tags": []
          },
          "execution_count": 11
        }
      ]
    },
    {
      "cell_type": "code",
      "metadata": {
        "id": "Lv3rZ0M_S0Ke"
      },
      "source": [
        "optim.step()"
      ],
      "execution_count": 12,
      "outputs": []
    },
    {
      "cell_type": "code",
      "metadata": {
        "id": "WlqdQaBlS659"
      },
      "source": [
        ""
      ],
      "execution_count": null,
      "outputs": []
    }
  ]
}