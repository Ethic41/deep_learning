{
  "nbformat": 4,
  "nbformat_minor": 0,
  "metadata": {
    "colab": {
      "name": "60_min_blitz_tensors.ipynb",
      "provenance": [],
      "authorship_tag": "ABX9TyNW8YQhdjavcf+i/dgng8hn",
      "include_colab_link": true
    },
    "kernelspec": {
      "name": "python3",
      "display_name": "Python 3"
    },
    "language_info": {
      "name": "python"
    }
  },
  "cells": [
    {
      "cell_type": "markdown",
      "metadata": {
        "id": "view-in-github",
        "colab_type": "text"
      },
      "source": [
        "<a href=\"https://colab.research.google.com/github/Ethic41/deep_learning/blob/master/pytorch/60_min_blitz_tensors.ipynb\" target=\"_parent\"><img src=\"https://colab.research.google.com/assets/colab-badge.svg\" alt=\"Open In Colab\"/></a>"
      ]
    },
    {
      "cell_type": "code",
      "metadata": {
        "id": "ME6PP3EDuKSC"
      },
      "source": [
        "import torch\n",
        "import numpy as np"
      ],
      "execution_count": 1,
      "outputs": []
    },
    {
      "cell_type": "code",
      "metadata": {
        "colab": {
          "base_uri": "https://localhost:8080/"
        },
        "id": "NQIHzcqgubnh",
        "outputId": "3fa6112a-ccc6-4a2a-e89f-99cc953bdf7c"
      },
      "source": [
        "data = [[1, 2], [3, 4]]\n",
        "x_data = torch.tensor(data)\n",
        "x_data"
      ],
      "execution_count": 2,
      "outputs": [
        {
          "output_type": "execute_result",
          "data": {
            "text/plain": [
              "tensor([[1, 2],\n",
              "        [3, 4]])"
            ]
          },
          "metadata": {
            "tags": []
          },
          "execution_count": 2
        }
      ]
    },
    {
      "cell_type": "code",
      "metadata": {
        "id": "6VmqAjT1up-I"
      },
      "source": [
        "np_array = np.array(data)\n",
        "x_np = torch.from_numpy(np_array)"
      ],
      "execution_count": 3,
      "outputs": []
    },
    {
      "cell_type": "code",
      "metadata": {
        "colab": {
          "base_uri": "https://localhost:8080/"
        },
        "id": "nKY1LhBSu7vA",
        "outputId": "207c4148-3642-4e03-d719-9a7f5350683d"
      },
      "source": [
        "x_np"
      ],
      "execution_count": 4,
      "outputs": [
        {
          "output_type": "execute_result",
          "data": {
            "text/plain": [
              "tensor([[1, 2],\n",
              "        [3, 4]])"
            ]
          },
          "metadata": {
            "tags": []
          },
          "execution_count": 4
        }
      ]
    },
    {
      "cell_type": "code",
      "metadata": {
        "id": "HUZFQaEhu9F4"
      },
      "source": [
        "x_ones = torch.ones_like(x_data)"
      ],
      "execution_count": 5,
      "outputs": []
    },
    {
      "cell_type": "code",
      "metadata": {
        "colab": {
          "base_uri": "https://localhost:8080/"
        },
        "id": "UO7ZA1HVvGi3",
        "outputId": "63844586-3a8b-458a-ea35-19eb0a99a07c"
      },
      "source": [
        "x_ones"
      ],
      "execution_count": 6,
      "outputs": [
        {
          "output_type": "execute_result",
          "data": {
            "text/plain": [
              "tensor([[1, 1],\n",
              "        [1, 1]])"
            ]
          },
          "metadata": {
            "tags": []
          },
          "execution_count": 6
        }
      ]
    },
    {
      "cell_type": "code",
      "metadata": {
        "colab": {
          "base_uri": "https://localhost:8080/"
        },
        "id": "NDcylFA5vIuw",
        "outputId": "525bf1bd-6819-4337-a4d7-aaf34a5e2502"
      },
      "source": [
        "x_rand = torch.rand_like(x_data, dtype=torch.float)\n",
        "x_rand"
      ],
      "execution_count": 7,
      "outputs": [
        {
          "output_type": "execute_result",
          "data": {
            "text/plain": [
              "tensor([[0.2934, 0.9435],\n",
              "        [0.8162, 0.6458]])"
            ]
          },
          "metadata": {
            "tags": []
          },
          "execution_count": 7
        }
      ]
    },
    {
      "cell_type": "code",
      "metadata": {
        "colab": {
          "base_uri": "https://localhost:8080/"
        },
        "id": "FZVy3IRHvRvg",
        "outputId": "1b9ea93d-00b3-4f51-e2cd-806e35d7b548"
      },
      "source": [
        "shape = (2, 3, )\n",
        "rand_tensor = torch.rand(shape)\n",
        "rand_tensor"
      ],
      "execution_count": 8,
      "outputs": [
        {
          "output_type": "execute_result",
          "data": {
            "text/plain": [
              "tensor([[0.1606, 0.8202, 0.9570],\n",
              "        [0.0299, 0.5038, 0.2680]])"
            ]
          },
          "metadata": {
            "tags": []
          },
          "execution_count": 8
        }
      ]
    },
    {
      "cell_type": "code",
      "metadata": {
        "colab": {
          "base_uri": "https://localhost:8080/"
        },
        "id": "n_3lrllTvgAP",
        "outputId": "b3a7fe17-4cfb-42a1-ff2b-fab350b71bce"
      },
      "source": [
        "ones_tensor = torch.ones(shape)\n",
        "ones_tensor"
      ],
      "execution_count": 9,
      "outputs": [
        {
          "output_type": "execute_result",
          "data": {
            "text/plain": [
              "tensor([[1., 1., 1.],\n",
              "        [1., 1., 1.]])"
            ]
          },
          "metadata": {
            "tags": []
          },
          "execution_count": 9
        }
      ]
    },
    {
      "cell_type": "code",
      "metadata": {
        "colab": {
          "base_uri": "https://localhost:8080/"
        },
        "id": "3tq8Pj0pEcR9",
        "outputId": "d1d11a9c-6b08-4996-9b1c-11c0ac4136a7"
      },
      "source": [
        "zeros_tensor = torch.zeros(shape)\n",
        "zeros_tensor"
      ],
      "execution_count": 10,
      "outputs": [
        {
          "output_type": "execute_result",
          "data": {
            "text/plain": [
              "tensor([[0., 0., 0.],\n",
              "        [0., 0., 0.]])"
            ]
          },
          "metadata": {
            "tags": []
          },
          "execution_count": 10
        }
      ]
    },
    {
      "cell_type": "code",
      "metadata": {
        "id": "rFMPAYS2Ep_b"
      },
      "source": [
        "tensor = torch.rand(3, 4)"
      ],
      "execution_count": 11,
      "outputs": []
    },
    {
      "cell_type": "code",
      "metadata": {
        "colab": {
          "base_uri": "https://localhost:8080/"
        },
        "id": "iRK8zULlE1FD",
        "outputId": "81047f24-521f-4074-859f-06e767a82a5d"
      },
      "source": [
        "tensor"
      ],
      "execution_count": 12,
      "outputs": [
        {
          "output_type": "execute_result",
          "data": {
            "text/plain": [
              "tensor([[0.9275, 0.2898, 0.9390, 0.9949],\n",
              "        [0.5318, 0.1517, 0.5107, 0.7115],\n",
              "        [0.4489, 0.2844, 0.3477, 0.2262]])"
            ]
          },
          "metadata": {
            "tags": []
          },
          "execution_count": 12
        }
      ]
    },
    {
      "cell_type": "code",
      "metadata": {
        "colab": {
          "base_uri": "https://localhost:8080/"
        },
        "id": "dAHcmivWE1tb",
        "outputId": "bb4649f7-cd39-4cd5-81b1-2af410531b4a"
      },
      "source": [
        "print(f\"Shape of tensor {tensor.shape}\")"
      ],
      "execution_count": 13,
      "outputs": [
        {
          "output_type": "stream",
          "text": [
            "Shape of tensor torch.Size([3, 4])\n"
          ],
          "name": "stdout"
        }
      ]
    },
    {
      "cell_type": "code",
      "metadata": {
        "colab": {
          "base_uri": "https://localhost:8080/"
        },
        "id": "MidugclUE7Lz",
        "outputId": "cd555fcc-71b2-42e8-fdbf-27e12dfab05d"
      },
      "source": [
        "print(f\"Datatype of tensor: {tensor.dtype}\")"
      ],
      "execution_count": 14,
      "outputs": [
        {
          "output_type": "stream",
          "text": [
            "Datatype of tensor: torch.float32\n"
          ],
          "name": "stdout"
        }
      ]
    },
    {
      "cell_type": "code",
      "metadata": {
        "colab": {
          "base_uri": "https://localhost:8080/"
        },
        "id": "UTWC5JQFFDsz",
        "outputId": "a6f6e301-81bc-46d5-c77a-f8cc5c9b7d2e"
      },
      "source": [
        "print(f\"Device tensor is stored on: {tensor.device}\")"
      ],
      "execution_count": 15,
      "outputs": [
        {
          "output_type": "stream",
          "text": [
            "Device tensor is stored on: cpu\n"
          ],
          "name": "stdout"
        }
      ]
    },
    {
      "cell_type": "code",
      "metadata": {
        "colab": {
          "base_uri": "https://localhost:8080/"
        },
        "id": "AgQinzpbFLUk",
        "outputId": "a47e0a50-bfc1-44d5-b4ca-2edc3a01326f"
      },
      "source": [
        "tensor = torch.ones(4, 4)\n",
        "print(f\"{tensor}\")\n",
        "\n",
        "tensor[:, 1] = 0\n",
        "print(f\"{tensor}\")\n",
        "\n"
      ],
      "execution_count": 16,
      "outputs": [
        {
          "output_type": "stream",
          "text": [
            "tensor([[1., 1., 1., 1.],\n",
            "        [1., 1., 1., 1.],\n",
            "        [1., 1., 1., 1.],\n",
            "        [1., 1., 1., 1.]])\n",
            "tensor([[1., 0., 1., 1.],\n",
            "        [1., 0., 1., 1.],\n",
            "        [1., 0., 1., 1.],\n",
            "        [1., 0., 1., 1.]])\n"
          ],
          "name": "stdout"
        }
      ]
    },
    {
      "cell_type": "code",
      "metadata": {
        "colab": {
          "base_uri": "https://localhost:8080/"
        },
        "id": "VL5WAIjHGlNM",
        "outputId": "11ea7d0f-be1e-4e59-f5a1-b2b6d44174d8"
      },
      "source": [
        "t1 = torch.cat([tensor, tensor], dim=1)\n",
        "print(t1)"
      ],
      "execution_count": 19,
      "outputs": [
        {
          "output_type": "stream",
          "text": [
            "tensor([[1., 0., 1., 1., 1., 0., 1., 1.],\n",
            "        [1., 0., 1., 1., 1., 0., 1., 1.],\n",
            "        [1., 0., 1., 1., 1., 0., 1., 1.],\n",
            "        [1., 0., 1., 1., 1., 0., 1., 1.]])\n"
          ],
          "name": "stdout"
        }
      ]
    },
    {
      "cell_type": "code",
      "metadata": {
        "colab": {
          "base_uri": "https://localhost:8080/"
        },
        "id": "-BtusOubGzMS",
        "outputId": "f5a1c5b6-b663-49db-f4de-aef04bfd76a8"
      },
      "source": [
        "tensor * tensor"
      ],
      "execution_count": 20,
      "outputs": [
        {
          "output_type": "execute_result",
          "data": {
            "text/plain": [
              "tensor([[1., 0., 1., 1.],\n",
              "        [1., 0., 1., 1.],\n",
              "        [1., 0., 1., 1.],\n",
              "        [1., 0., 1., 1.]])"
            ]
          },
          "metadata": {
            "tags": []
          },
          "execution_count": 20
        }
      ]
    },
    {
      "cell_type": "code",
      "metadata": {
        "colab": {
          "base_uri": "https://localhost:8080/"
        },
        "id": "B-n0FRr3HP2i",
        "outputId": "acd97cab-145e-419c-9eff-c64efdd71a94"
      },
      "source": [
        "tensor.mul(tensor)"
      ],
      "execution_count": 21,
      "outputs": [
        {
          "output_type": "execute_result",
          "data": {
            "text/plain": [
              "tensor([[1., 0., 1., 1.],\n",
              "        [1., 0., 1., 1.],\n",
              "        [1., 0., 1., 1.],\n",
              "        [1., 0., 1., 1.]])"
            ]
          },
          "metadata": {
            "tags": []
          },
          "execution_count": 21
        }
      ]
    },
    {
      "cell_type": "code",
      "metadata": {
        "colab": {
          "base_uri": "https://localhost:8080/"
        },
        "id": "UxxYGOFdHTpp",
        "outputId": "a278a0a5-b387-47d3-f968-20d0dc816ac6"
      },
      "source": [
        "tensor.matmul(tensor.T)"
      ],
      "execution_count": 22,
      "outputs": [
        {
          "output_type": "execute_result",
          "data": {
            "text/plain": [
              "tensor([[3., 3., 3., 3.],\n",
              "        [3., 3., 3., 3.],\n",
              "        [3., 3., 3., 3.],\n",
              "        [3., 3., 3., 3.]])"
            ]
          },
          "metadata": {
            "tags": []
          },
          "execution_count": 22
        }
      ]
    },
    {
      "cell_type": "code",
      "metadata": {
        "colab": {
          "base_uri": "https://localhost:8080/"
        },
        "id": "mmoY340pHaQ5",
        "outputId": "326bc4c1-7f61-458d-83f9-d5bfce546f22"
      },
      "source": [
        "tensor"
      ],
      "execution_count": 23,
      "outputs": [
        {
          "output_type": "execute_result",
          "data": {
            "text/plain": [
              "tensor([[1., 0., 1., 1.],\n",
              "        [1., 0., 1., 1.],\n",
              "        [1., 0., 1., 1.],\n",
              "        [1., 0., 1., 1.]])"
            ]
          },
          "metadata": {
            "tags": []
          },
          "execution_count": 23
        }
      ]
    },
    {
      "cell_type": "code",
      "metadata": {
        "colab": {
          "base_uri": "https://localhost:8080/"
        },
        "id": "OftrFR4LHgES",
        "outputId": "829d50f2-ff48-48c4-aa18-c15c04dfd3b8"
      },
      "source": [
        "tensor.T"
      ],
      "execution_count": 24,
      "outputs": [
        {
          "output_type": "execute_result",
          "data": {
            "text/plain": [
              "tensor([[1., 1., 1., 1.],\n",
              "        [0., 0., 0., 0.],\n",
              "        [1., 1., 1., 1.],\n",
              "        [1., 1., 1., 1.]])"
            ]
          },
          "metadata": {
            "tags": []
          },
          "execution_count": 24
        }
      ]
    },
    {
      "cell_type": "code",
      "metadata": {
        "colab": {
          "base_uri": "https://localhost:8080/"
        },
        "id": "oPj0dQR1HiMx",
        "outputId": "874173fa-0b1f-4bcb-d111-4ae3176e22d3"
      },
      "source": [
        "tensor.T"
      ],
      "execution_count": 25,
      "outputs": [
        {
          "output_type": "execute_result",
          "data": {
            "text/plain": [
              "tensor([[1., 1., 1., 1.],\n",
              "        [0., 0., 0., 0.],\n",
              "        [1., 1., 1., 1.],\n",
              "        [1., 1., 1., 1.]])"
            ]
          },
          "metadata": {
            "tags": []
          },
          "execution_count": 25
        }
      ]
    },
    {
      "cell_type": "code",
      "metadata": {
        "colab": {
          "base_uri": "https://localhost:8080/"
        },
        "id": "h6upWqznHkKy",
        "outputId": "deab8db7-79f9-4ab8-eec7-aec2914dc0f8"
      },
      "source": [
        "tensor.T"
      ],
      "execution_count": 26,
      "outputs": [
        {
          "output_type": "execute_result",
          "data": {
            "text/plain": [
              "tensor([[1., 1., 1., 1.],\n",
              "        [0., 0., 0., 0.],\n",
              "        [1., 1., 1., 1.],\n",
              "        [1., 1., 1., 1.]])"
            ]
          },
          "metadata": {
            "tags": []
          },
          "execution_count": 26
        }
      ]
    },
    {
      "cell_type": "code",
      "metadata": {
        "colab": {
          "base_uri": "https://localhost:8080/"
        },
        "id": "exLx5uWiHnCD",
        "outputId": "e26fe14e-82ee-4165-8c63-d1300a8044a8"
      },
      "source": [
        "tensor.T.T"
      ],
      "execution_count": 27,
      "outputs": [
        {
          "output_type": "execute_result",
          "data": {
            "text/plain": [
              "tensor([[1., 0., 1., 1.],\n",
              "        [1., 0., 1., 1.],\n",
              "        [1., 0., 1., 1.],\n",
              "        [1., 0., 1., 1.]])"
            ]
          },
          "metadata": {
            "tags": []
          },
          "execution_count": 27
        }
      ]
    },
    {
      "cell_type": "code",
      "metadata": {
        "colab": {
          "base_uri": "https://localhost:8080/"
        },
        "id": "iQgG0txNHrC6",
        "outputId": "e9c73895-527c-42b8-927b-a4dc9e894366"
      },
      "source": [
        "tensor @ tensor"
      ],
      "execution_count": 28,
      "outputs": [
        {
          "output_type": "execute_result",
          "data": {
            "text/plain": [
              "tensor([[3., 0., 3., 3.],\n",
              "        [3., 0., 3., 3.],\n",
              "        [3., 0., 3., 3.],\n",
              "        [3., 0., 3., 3.]])"
            ]
          },
          "metadata": {
            "tags": []
          },
          "execution_count": 28
        }
      ]
    },
    {
      "cell_type": "code",
      "metadata": {
        "colab": {
          "base_uri": "https://localhost:8080/"
        },
        "id": "gTzA-fumH8mi",
        "outputId": "148edefb-bcbe-43fe-bc58-7f980746b76f"
      },
      "source": [
        "tensor + 5"
      ],
      "execution_count": 29,
      "outputs": [
        {
          "output_type": "execute_result",
          "data": {
            "text/plain": [
              "tensor([[6., 5., 6., 6.],\n",
              "        [6., 5., 6., 6.],\n",
              "        [6., 5., 6., 6.],\n",
              "        [6., 5., 6., 6.]])"
            ]
          },
          "metadata": {
            "tags": []
          },
          "execution_count": 29
        }
      ]
    },
    {
      "cell_type": "code",
      "metadata": {
        "colab": {
          "base_uri": "https://localhost:8080/"
        },
        "id": "ASIlt5pHIFjy",
        "outputId": "b472da57-96d3-4680-abac-1be8d0084ca0"
      },
      "source": [
        "tensor"
      ],
      "execution_count": 30,
      "outputs": [
        {
          "output_type": "execute_result",
          "data": {
            "text/plain": [
              "tensor([[1., 0., 1., 1.],\n",
              "        [1., 0., 1., 1.],\n",
              "        [1., 0., 1., 1.],\n",
              "        [1., 0., 1., 1.]])"
            ]
          },
          "metadata": {
            "tags": []
          },
          "execution_count": 30
        }
      ]
    },
    {
      "cell_type": "code",
      "metadata": {
        "colab": {
          "base_uri": "https://localhost:8080/"
        },
        "id": "xs42fxyQIHIJ",
        "outputId": "bfa84933-2d59-4204-f4cf-cb5cf82e20fb"
      },
      "source": [
        "tensor.add(5)"
      ],
      "execution_count": 31,
      "outputs": [
        {
          "output_type": "execute_result",
          "data": {
            "text/plain": [
              "tensor([[6., 5., 6., 6.],\n",
              "        [6., 5., 6., 6.],\n",
              "        [6., 5., 6., 6.],\n",
              "        [6., 5., 6., 6.]])"
            ]
          },
          "metadata": {
            "tags": []
          },
          "execution_count": 31
        }
      ]
    },
    {
      "cell_type": "code",
      "metadata": {
        "colab": {
          "base_uri": "https://localhost:8080/"
        },
        "id": "-fm_VLNxIJ1B",
        "outputId": "a4ac948c-44a3-43e3-ec8e-2a2fd56f2873"
      },
      "source": [
        "tensor"
      ],
      "execution_count": 32,
      "outputs": [
        {
          "output_type": "execute_result",
          "data": {
            "text/plain": [
              "tensor([[1., 0., 1., 1.],\n",
              "        [1., 0., 1., 1.],\n",
              "        [1., 0., 1., 1.],\n",
              "        [1., 0., 1., 1.]])"
            ]
          },
          "metadata": {
            "tags": []
          },
          "execution_count": 32
        }
      ]
    },
    {
      "cell_type": "code",
      "metadata": {
        "id": "y9wahsGfILBR"
      },
      "source": [
        "tensor1 = tensor"
      ],
      "execution_count": 33,
      "outputs": []
    },
    {
      "cell_type": "code",
      "metadata": {
        "colab": {
          "base_uri": "https://localhost:8080/"
        },
        "id": "zGSJPEszINGS",
        "outputId": "0cc2db09-d3d0-4ed1-ee8f-f4f81b229751"
      },
      "source": [
        "tensor"
      ],
      "execution_count": 34,
      "outputs": [
        {
          "output_type": "execute_result",
          "data": {
            "text/plain": [
              "tensor([[1., 0., 1., 1.],\n",
              "        [1., 0., 1., 1.],\n",
              "        [1., 0., 1., 1.],\n",
              "        [1., 0., 1., 1.]])"
            ]
          },
          "metadata": {
            "tags": []
          },
          "execution_count": 34
        }
      ]
    },
    {
      "cell_type": "code",
      "metadata": {
        "colab": {
          "base_uri": "https://localhost:8080/"
        },
        "id": "sQ-uU2bpIig5",
        "outputId": "7c02c6cc-9033-49ec-c884-1ae75f65fbe9"
      },
      "source": [
        "tensor1"
      ],
      "execution_count": 35,
      "outputs": [
        {
          "output_type": "execute_result",
          "data": {
            "text/plain": [
              "tensor([[1., 0., 1., 1.],\n",
              "        [1., 0., 1., 1.],\n",
              "        [1., 0., 1., 1.],\n",
              "        [1., 0., 1., 1.]])"
            ]
          },
          "metadata": {
            "tags": []
          },
          "execution_count": 35
        }
      ]
    },
    {
      "cell_type": "code",
      "metadata": {
        "colab": {
          "base_uri": "https://localhost:8080/"
        },
        "id": "mbrNB5NGImmR",
        "outputId": "c919c15e-fa19-4805-f8c8-d1f99db5a5ea"
      },
      "source": [
        "tensor1.add_(5)"
      ],
      "execution_count": 36,
      "outputs": [
        {
          "output_type": "execute_result",
          "data": {
            "text/plain": [
              "tensor([[6., 5., 6., 6.],\n",
              "        [6., 5., 6., 6.],\n",
              "        [6., 5., 6., 6.],\n",
              "        [6., 5., 6., 6.]])"
            ]
          },
          "metadata": {
            "tags": []
          },
          "execution_count": 36
        }
      ]
    },
    {
      "cell_type": "code",
      "metadata": {
        "colab": {
          "base_uri": "https://localhost:8080/"
        },
        "id": "XO-iW4cjItMa",
        "outputId": "d00b30b1-0d1e-4ca1-e970-0c44f4eb771c"
      },
      "source": [
        "tensor1"
      ],
      "execution_count": 37,
      "outputs": [
        {
          "output_type": "execute_result",
          "data": {
            "text/plain": [
              "tensor([[6., 5., 6., 6.],\n",
              "        [6., 5., 6., 6.],\n",
              "        [6., 5., 6., 6.],\n",
              "        [6., 5., 6., 6.]])"
            ]
          },
          "metadata": {
            "tags": []
          },
          "execution_count": 37
        }
      ]
    },
    {
      "cell_type": "code",
      "metadata": {
        "id": "oyzs7yOqIvEh"
      },
      "source": [
        "tensor2 = torch.rand(1, 3, 64, 64)"
      ],
      "execution_count": 38,
      "outputs": []
    },
    {
      "cell_type": "code",
      "metadata": {
        "colab": {
          "base_uri": "https://localhost:8080/"
        },
        "id": "1W8EwHS-PMeZ",
        "outputId": "fadc7caf-e5da-4193-d70e-2c4ee72b70ef"
      },
      "source": [
        "tensor2 "
      ],
      "execution_count": 39,
      "outputs": [
        {
          "output_type": "execute_result",
          "data": {
            "text/plain": [
              "tensor([[[[0.0318, 0.1571, 0.8849,  ..., 0.6004, 0.8022, 0.5094],\n",
              "          [0.7851, 0.2291, 0.6493,  ..., 0.6302, 0.8993, 0.0085],\n",
              "          [0.8131, 0.2228, 0.4054,  ..., 0.6595, 0.9104, 0.9151],\n",
              "          ...,\n",
              "          [0.8599, 0.3521, 0.7266,  ..., 0.0590, 0.1908, 0.4004],\n",
              "          [0.1627, 0.7538, 0.0101,  ..., 0.5277, 0.2775, 0.6883],\n",
              "          [0.3791, 0.6081, 0.4120,  ..., 0.9782, 0.0563, 0.7062]],\n",
              "\n",
              "         [[0.0528, 0.3393, 0.8383,  ..., 0.0367, 0.8828, 0.7563],\n",
              "          [0.1582, 0.6316, 0.7010,  ..., 0.8287, 0.4746, 0.8760],\n",
              "          [0.5761, 0.5501, 0.5448,  ..., 0.1259, 0.8055, 0.1602],\n",
              "          ...,\n",
              "          [0.0467, 0.4550, 0.3363,  ..., 0.6850, 0.3843, 0.0481],\n",
              "          [0.8691, 0.8662, 0.3526,  ..., 0.9290, 0.9479, 0.2451],\n",
              "          [0.9924, 0.5069, 0.9089,  ..., 0.3524, 0.4452, 0.8147]],\n",
              "\n",
              "         [[0.1942, 0.5891, 0.8665,  ..., 0.1084, 0.4731, 0.0444],\n",
              "          [0.9750, 0.8340, 0.0500,  ..., 0.1404, 0.1844, 0.0407],\n",
              "          [0.4633, 0.4025, 0.6107,  ..., 0.1015, 0.1791, 0.6656],\n",
              "          ...,\n",
              "          [0.8256, 0.5163, 0.6507,  ..., 0.6033, 0.1500, 0.7978],\n",
              "          [0.6567, 0.6309, 0.0242,  ..., 0.5653, 0.5668, 0.5610],\n",
              "          [0.7544, 0.2336, 0.0937,  ..., 0.5839, 0.4372, 0.8568]]]])"
            ]
          },
          "metadata": {
            "tags": []
          },
          "execution_count": 39
        }
      ]
    },
    {
      "cell_type": "code",
      "metadata": {
        "colab": {
          "base_uri": "https://localhost:8080/"
        },
        "id": "rPIxMk9YPNoH",
        "outputId": "e77cd781-2501-47ee-e8ee-c90077572151"
      },
      "source": [
        "for t in tensor2[0]:\n",
        "  print(f\">>>> tensor: {t}\")\n",
        "  print(f\">>>> tensor shape: {t.shape}\")"
      ],
      "execution_count": 43,
      "outputs": [
        {
          "output_type": "stream",
          "text": [
            ">>>> tensor: tensor([[0.0318, 0.1571, 0.8849,  ..., 0.6004, 0.8022, 0.5094],\n",
            "        [0.7851, 0.2291, 0.6493,  ..., 0.6302, 0.8993, 0.0085],\n",
            "        [0.8131, 0.2228, 0.4054,  ..., 0.6595, 0.9104, 0.9151],\n",
            "        ...,\n",
            "        [0.8599, 0.3521, 0.7266,  ..., 0.0590, 0.1908, 0.4004],\n",
            "        [0.1627, 0.7538, 0.0101,  ..., 0.5277, 0.2775, 0.6883],\n",
            "        [0.3791, 0.6081, 0.4120,  ..., 0.9782, 0.0563, 0.7062]])\n",
            ">>>> tensor shape: torch.Size([64, 64])\n",
            ">>>> tensor: tensor([[0.0528, 0.3393, 0.8383,  ..., 0.0367, 0.8828, 0.7563],\n",
            "        [0.1582, 0.6316, 0.7010,  ..., 0.8287, 0.4746, 0.8760],\n",
            "        [0.5761, 0.5501, 0.5448,  ..., 0.1259, 0.8055, 0.1602],\n",
            "        ...,\n",
            "        [0.0467, 0.4550, 0.3363,  ..., 0.6850, 0.3843, 0.0481],\n",
            "        [0.8691, 0.8662, 0.3526,  ..., 0.9290, 0.9479, 0.2451],\n",
            "        [0.9924, 0.5069, 0.9089,  ..., 0.3524, 0.4452, 0.8147]])\n",
            ">>>> tensor shape: torch.Size([64, 64])\n",
            ">>>> tensor: tensor([[0.1942, 0.5891, 0.8665,  ..., 0.1084, 0.4731, 0.0444],\n",
            "        [0.9750, 0.8340, 0.0500,  ..., 0.1404, 0.1844, 0.0407],\n",
            "        [0.4633, 0.4025, 0.6107,  ..., 0.1015, 0.1791, 0.6656],\n",
            "        ...,\n",
            "        [0.8256, 0.5163, 0.6507,  ..., 0.6033, 0.1500, 0.7978],\n",
            "        [0.6567, 0.6309, 0.0242,  ..., 0.5653, 0.5668, 0.5610],\n",
            "        [0.7544, 0.2336, 0.0937,  ..., 0.5839, 0.4372, 0.8568]])\n",
            ">>>> tensor shape: torch.Size([64, 64])\n"
          ],
          "name": "stdout"
        }
      ]
    },
    {
      "cell_type": "code",
      "metadata": {
        "id": "0kj6B4CsPjVb"
      },
      "source": [
        "tensor3 = torch.rand(1, 1000)"
      ],
      "execution_count": 44,
      "outputs": []
    },
    {
      "cell_type": "code",
      "metadata": {
        "colab": {
          "base_uri": "https://localhost:8080/"
        },
        "id": "4Ag0E9QDQWZW",
        "outputId": "c58a7960-8a62-471a-999c-9a877485a05b"
      },
      "source": [
        "tensor3.shape"
      ],
      "execution_count": 46,
      "outputs": [
        {
          "output_type": "execute_result",
          "data": {
            "text/plain": [
              "torch.Size([1, 1000])"
            ]
          },
          "metadata": {
            "tags": []
          },
          "execution_count": 46
        }
      ]
    },
    {
      "cell_type": "code",
      "metadata": {
        "colab": {
          "base_uri": "https://localhost:8080/"
        },
        "id": "lRaP5N0kQXhu",
        "outputId": "b4ca8dc3-0d78-41c4-9e3c-7916b9a2f59c"
      },
      "source": [
        "tensor3"
      ],
      "execution_count": 47,
      "outputs": [
        {
          "output_type": "execute_result",
          "data": {
            "text/plain": [
              "tensor([[6.7554e-01, 8.3782e-01, 1.6278e-01, 8.0880e-01, 3.6566e-01, 4.6663e-01,\n",
              "         5.3005e-01, 6.9341e-01, 1.9535e-01, 1.5311e-01, 4.5928e-01, 7.8130e-01,\n",
              "         8.2457e-01, 9.6818e-01, 2.9547e-01, 4.9612e-01, 8.3221e-01, 6.9866e-01,\n",
              "         5.7300e-01, 3.7635e-01, 2.3624e-01, 3.8964e-01, 9.7494e-01, 8.0412e-01,\n",
              "         7.4995e-01, 9.2712e-01, 8.8770e-01, 7.7403e-02, 4.4619e-01, 2.2726e-01,\n",
              "         9.2739e-01, 1.5838e-01, 8.9205e-01, 8.6778e-01, 3.6293e-01, 1.1809e-01,\n",
              "         3.2616e-02, 4.8840e-01, 7.8555e-01, 5.3586e-01, 7.9630e-01, 3.0649e-01,\n",
              "         6.9161e-01, 2.5736e-01, 9.4796e-01, 8.3652e-01, 5.9352e-01, 7.9181e-01,\n",
              "         3.8324e-01, 4.4098e-01, 9.7393e-02, 3.7116e-01, 9.6298e-01, 8.1032e-01,\n",
              "         9.5252e-01, 6.2344e-01, 9.7866e-01, 7.8001e-01, 9.1181e-01, 8.6039e-02,\n",
              "         9.3752e-01, 2.7642e-01, 2.6089e-02, 2.7956e-01, 7.7622e-01, 6.6169e-01,\n",
              "         9.7863e-02, 3.0835e-01, 2.9519e-02, 7.8540e-01, 4.1605e-01, 2.3037e-01,\n",
              "         2.8430e-01, 8.4233e-01, 2.1630e-01, 7.7815e-01, 2.9141e-01, 4.3336e-01,\n",
              "         1.7889e-01, 3.3463e-01, 6.6068e-01, 2.9422e-01, 8.3284e-01, 4.4300e-01,\n",
              "         8.1717e-03, 9.9300e-01, 6.2124e-01, 6.8076e-01, 5.4790e-01, 9.2125e-01,\n",
              "         7.8932e-01, 5.8315e-01, 1.9167e-01, 7.5268e-01, 3.8171e-01, 4.0132e-01,\n",
              "         5.3354e-01, 6.0759e-01, 5.2580e-01, 8.8092e-01, 3.7183e-01, 5.1159e-01,\n",
              "         3.5630e-01, 9.1837e-01, 5.4493e-01, 7.0990e-01, 6.3982e-02, 9.1892e-01,\n",
              "         5.9151e-02, 3.0405e-01, 6.1101e-01, 7.8369e-01, 4.8278e-01, 1.7794e-01,\n",
              "         8.4572e-01, 2.2912e-01, 9.3372e-01, 2.3730e-01, 7.5015e-01, 5.4924e-01,\n",
              "         5.9052e-02, 4.5119e-01, 5.2336e-01, 2.6698e-01, 2.6609e-01, 7.1022e-02,\n",
              "         6.6655e-01, 9.1702e-01, 1.1017e-01, 8.8596e-02, 6.3247e-01, 5.4983e-02,\n",
              "         1.8033e-01, 8.0599e-01, 4.1604e-01, 4.0805e-01, 4.4118e-01, 9.0922e-01,\n",
              "         1.9732e-01, 8.4189e-01, 7.7175e-01, 4.2208e-01, 5.2844e-01, 8.3565e-01,\n",
              "         8.7821e-01, 2.0555e-01, 7.3087e-01, 7.3814e-03, 6.3459e-01, 3.2291e-03,\n",
              "         9.8822e-01, 8.5493e-01, 5.6891e-01, 6.0176e-01, 1.0134e-01, 7.3010e-02,\n",
              "         1.9408e-01, 3.6326e-01, 9.3282e-01, 4.4564e-01, 1.1088e-01, 1.1838e-01,\n",
              "         7.5148e-01, 8.2530e-01, 9.2233e-01, 2.5214e-01, 1.0893e-01, 7.4167e-01,\n",
              "         6.0931e-01, 2.0716e-02, 9.3735e-01, 1.2885e-01, 9.5854e-01, 5.2699e-01,\n",
              "         4.4067e-01, 3.4220e-01, 3.7999e-02, 8.9638e-01, 9.1235e-01, 4.9739e-01,\n",
              "         6.5043e-01, 3.7985e-01, 2.4515e-01, 6.7075e-01, 3.6033e-01, 9.5262e-01,\n",
              "         6.7132e-01, 7.0792e-01, 9.4579e-02, 7.2672e-01, 7.3238e-01, 2.1260e-01,\n",
              "         1.6828e-01, 5.4076e-01, 6.8176e-01, 8.0964e-01, 4.6092e-01, 7.2433e-01,\n",
              "         2.7545e-01, 6.9162e-01, 7.8750e-01, 8.6405e-01, 7.7480e-01, 2.5312e-01,\n",
              "         7.6673e-02, 8.7361e-01, 2.7560e-01, 7.8990e-01, 7.6159e-02, 7.1155e-01,\n",
              "         5.3361e-01, 7.4633e-01, 4.1840e-01, 9.0147e-01, 4.5509e-01, 6.6460e-02,\n",
              "         4.0762e-01, 7.0176e-03, 1.6174e-01, 1.8525e-01, 7.8876e-01, 3.4787e-01,\n",
              "         9.9072e-01, 2.6384e-01, 6.7170e-01, 1.3607e-01, 2.4819e-02, 1.9394e-01,\n",
              "         2.0038e-01, 7.4502e-03, 1.9469e-01, 8.5871e-01, 6.7696e-01, 2.8021e-01,\n",
              "         7.4865e-01, 2.0059e-01, 3.5342e-01, 6.0647e-01, 3.7930e-01, 6.8980e-01,\n",
              "         9.0553e-01, 3.1554e-02, 3.8306e-01, 1.5119e-01, 2.7578e-01, 7.9994e-01,\n",
              "         3.4480e-01, 9.1758e-02, 6.4484e-01, 9.8117e-01, 5.2650e-01, 3.7547e-01,\n",
              "         6.5862e-01, 3.8068e-01, 5.6321e-01, 1.6857e-01, 7.5057e-01, 8.9005e-01,\n",
              "         5.3799e-01, 1.1382e-01, 4.6430e-01, 7.5249e-01, 8.4646e-01, 5.4844e-01,\n",
              "         1.0483e-01, 2.8476e-01, 6.7333e-01, 4.6439e-01, 8.7186e-01, 6.2304e-02,\n",
              "         8.3853e-01, 3.5238e-01, 1.0861e-01, 1.1723e-01, 3.0997e-01, 9.1594e-01,\n",
              "         8.8054e-01, 4.1547e-01, 4.4178e-01, 3.7107e-02, 4.8413e-01, 7.8085e-01,\n",
              "         1.7615e-01, 5.1597e-01, 2.3591e-01, 6.6474e-01, 6.4264e-01, 4.2753e-02,\n",
              "         5.1227e-02, 2.7040e-01, 3.2840e-01, 6.7677e-01, 2.2205e-01, 7.3309e-02,\n",
              "         7.2504e-02, 6.5946e-01, 7.3380e-01, 1.6539e-01, 9.2889e-01, 3.9609e-01,\n",
              "         5.5786e-02, 9.3680e-01, 8.6179e-01, 1.7125e-01, 1.1106e-01, 7.5140e-01,\n",
              "         8.7322e-01, 3.4575e-01, 8.6264e-01, 9.1726e-01, 4.2677e-01, 4.2404e-02,\n",
              "         7.0973e-01, 5.2937e-01, 1.8516e-01, 5.8465e-01, 3.9676e-01, 6.9082e-01,\n",
              "         3.5431e-01, 9.4266e-01, 8.7137e-01, 5.6180e-01, 4.2680e-01, 8.8535e-01,\n",
              "         2.5078e-01, 7.6525e-01, 8.1127e-02, 1.9991e-01, 2.9826e-01, 5.3824e-01,\n",
              "         1.0387e-02, 9.5462e-01, 8.5792e-01, 2.1188e-01, 3.2154e-02, 7.9243e-01,\n",
              "         2.8549e-01, 9.2782e-01, 6.7534e-01, 9.8100e-01, 6.0846e-01, 2.3422e-01,\n",
              "         2.7984e-03, 4.2466e-01, 1.1898e-01, 5.1472e-01, 2.1834e-01, 7.6883e-01,\n",
              "         3.5798e-01, 3.7988e-01, 7.6218e-01, 7.8952e-01, 1.5853e-01, 6.4085e-01,\n",
              "         5.5754e-01, 6.0344e-01, 2.1341e-01, 5.8280e-01, 3.0998e-01, 8.7730e-01,\n",
              "         3.3605e-01, 3.3620e-01, 3.5122e-01, 8.4516e-01, 3.5876e-01, 2.0969e-01,\n",
              "         2.8189e-01, 9.2180e-01, 6.7984e-01, 2.8535e-01, 4.3535e-01, 8.8831e-01,\n",
              "         9.2930e-01, 7.7757e-01, 6.8843e-01, 9.2353e-01, 2.2666e-01, 8.9019e-01,\n",
              "         5.8281e-01, 9.8088e-01, 2.5062e-02, 2.1655e-01, 6.9628e-01, 5.8548e-01,\n",
              "         7.1393e-01, 5.3718e-01, 2.6731e-01, 5.5036e-01, 1.1117e-02, 4.2612e-01,\n",
              "         6.8695e-01, 8.3849e-01, 9.9274e-01, 9.7533e-01, 1.3802e-01, 2.3901e-01,\n",
              "         1.7516e-01, 5.9881e-01, 3.7174e-01, 8.4675e-01, 2.7411e-01, 3.4553e-01,\n",
              "         4.3066e-01, 6.3928e-01, 6.9796e-01, 3.3815e-01, 4.6367e-01, 5.4456e-01,\n",
              "         6.3577e-01, 6.9693e-02, 8.9363e-01, 3.1492e-01, 5.1846e-02, 2.1587e-01,\n",
              "         6.9907e-01, 1.1437e-01, 5.4613e-02, 3.8112e-01, 5.9685e-01, 1.9445e-01,\n",
              "         6.0631e-02, 2.8240e-01, 9.3248e-01, 6.2835e-01, 1.1629e-01, 5.9735e-01,\n",
              "         5.0357e-01, 7.6538e-01, 1.7950e-01, 1.6319e-01, 5.0629e-01, 8.4871e-02,\n",
              "         3.1166e-01, 5.7278e-02, 2.9307e-01, 2.0093e-01, 1.9500e-01, 7.0854e-02,\n",
              "         5.1954e-01, 2.9077e-01, 6.1204e-01, 5.6215e-01, 1.9948e-01, 5.8197e-02,\n",
              "         5.6978e-01, 7.8282e-01, 8.5563e-01, 6.3359e-01, 1.9022e-02, 6.1454e-01,\n",
              "         7.5189e-02, 8.9671e-01, 5.4345e-03, 2.6261e-01, 7.9432e-02, 5.9669e-01,\n",
              "         4.4008e-01, 2.1186e-01, 9.0616e-01, 1.5257e-01, 5.2772e-01, 2.0923e-01,\n",
              "         6.8406e-01, 2.4732e-01, 2.2707e-01, 5.9849e-01, 9.6234e-01, 1.2224e-01,\n",
              "         4.7122e-01, 7.0762e-01, 1.9215e-01, 1.9784e-01, 7.5825e-01, 6.6903e-01,\n",
              "         2.7778e-01, 3.8149e-02, 2.6005e-01, 4.8075e-01, 7.6629e-01, 7.1772e-01,\n",
              "         9.6074e-01, 5.5811e-01, 5.2136e-01, 8.6531e-01, 9.8193e-01, 5.3545e-01,\n",
              "         5.7177e-01, 9.4491e-01, 2.3021e-02, 9.8881e-01, 9.1008e-01, 7.2683e-01,\n",
              "         2.4033e-01, 4.2419e-01, 7.0251e-01, 5.0260e-02, 3.2437e-01, 9.6096e-01,\n",
              "         1.2707e-01, 7.4860e-01, 8.5191e-01, 2.5407e-01, 5.9447e-01, 7.1652e-01,\n",
              "         9.8065e-01, 4.8731e-01, 6.9953e-01, 8.3449e-01, 3.6073e-01, 8.1146e-01,\n",
              "         5.6644e-01, 3.1665e-01, 9.3576e-01, 4.8144e-01, 7.6053e-01, 7.9372e-01,\n",
              "         8.7219e-01, 5.1582e-01, 1.7558e-01, 8.1139e-01, 5.6730e-01, 8.9804e-01,\n",
              "         2.9379e-01, 9.6017e-01, 1.8767e-01, 7.0740e-01, 5.3525e-01, 2.6821e-01,\n",
              "         6.5373e-01, 7.1347e-01, 8.2662e-02, 5.6680e-01, 7.4321e-02, 5.1830e-01,\n",
              "         2.5153e-01, 4.0478e-01, 4.8460e-01, 2.3055e-01, 6.5413e-01, 2.0037e-01,\n",
              "         5.6421e-01, 8.7193e-01, 4.6870e-02, 9.3207e-01, 7.7802e-01, 9.7916e-01,\n",
              "         9.7301e-01, 9.4392e-01, 3.5922e-01, 6.5562e-01, 1.7487e-01, 9.3970e-01,\n",
              "         6.5679e-01, 9.1494e-01, 6.9057e-01, 3.9537e-01, 4.9860e-01, 6.5053e-03,\n",
              "         4.8548e-01, 2.2155e-02, 8.8789e-01, 5.6030e-01, 9.5484e-01, 3.2001e-01,\n",
              "         4.9864e-01, 8.2321e-01, 4.8717e-02, 8.0151e-01, 5.9756e-01, 5.1793e-01,\n",
              "         9.1998e-01, 5.7653e-02, 7.2774e-02, 8.5543e-01, 8.8241e-01, 7.7964e-01,\n",
              "         6.9537e-01, 5.1583e-01, 8.7680e-01, 8.3531e-01, 7.6562e-01, 2.1705e-01,\n",
              "         2.3196e-01, 7.9896e-01, 6.0268e-01, 1.8006e-01, 5.6562e-02, 2.3668e-01,\n",
              "         7.5382e-01, 9.0031e-02, 4.8876e-01, 9.7619e-01, 7.0125e-02, 5.8279e-01,\n",
              "         2.8452e-02, 7.9583e-01, 7.1429e-01, 2.5668e-01, 2.9221e-01, 7.4800e-01,\n",
              "         4.0989e-01, 6.0656e-01, 8.9459e-01, 5.1477e-01, 6.1306e-01, 6.2593e-01,\n",
              "         6.0745e-01, 8.3722e-01, 9.5001e-01, 7.7154e-01, 5.3157e-01, 1.8357e-01,\n",
              "         2.8866e-01, 9.5773e-01, 2.1594e-01, 3.1400e-01, 9.4458e-01, 4.7922e-01,\n",
              "         4.8720e-01, 8.5581e-01, 8.9427e-01, 2.8600e-01, 8.2504e-01, 2.6705e-01,\n",
              "         5.2663e-01, 4.0654e-01, 8.6341e-01, 6.2924e-01, 8.6845e-01, 3.3229e-01,\n",
              "         3.1247e-01, 7.9567e-01, 4.6189e-01, 5.0873e-01, 4.5094e-01, 4.1609e-01,\n",
              "         2.2905e-01, 6.4900e-01, 2.4333e-01, 8.1291e-01, 8.1449e-01, 3.0996e-01,\n",
              "         4.7098e-01, 3.6007e-02, 5.2731e-01, 5.9832e-01, 8.5215e-02, 7.9721e-01,\n",
              "         1.0903e-01, 5.3056e-01, 3.9938e-01, 5.5753e-01, 2.0833e-01, 7.5107e-01,\n",
              "         7.9569e-02, 1.2017e-01, 8.2811e-01, 9.1026e-02, 8.2392e-01, 1.2804e-01,\n",
              "         1.1324e-03, 5.0340e-01, 5.4295e-02, 7.7809e-01, 2.5289e-01, 8.4026e-01,\n",
              "         5.4136e-01, 9.2731e-01, 1.2559e-01, 9.8892e-01, 1.2777e-01, 5.7578e-01,\n",
              "         8.6427e-01, 1.9889e-01, 4.2733e-01, 9.6267e-01, 4.9849e-01, 7.7548e-01,\n",
              "         2.8756e-01, 3.0089e-01, 9.0518e-01, 8.9960e-01, 3.0572e-03, 3.5272e-01,\n",
              "         5.4070e-02, 7.9525e-02, 5.1064e-01, 5.8250e-01, 1.1457e-01, 3.9545e-01,\n",
              "         6.4892e-01, 4.2340e-01, 1.9872e-01, 8.9041e-01, 8.4067e-02, 9.1035e-01,\n",
              "         2.9639e-01, 5.2223e-01, 9.1147e-01, 6.1590e-01, 7.2909e-01, 6.3188e-02,\n",
              "         6.1784e-01, 7.2745e-01, 7.4558e-01, 3.8104e-01, 1.5900e-01, 6.6130e-01,\n",
              "         5.9007e-02, 6.9599e-01, 7.9862e-02, 9.6043e-01, 3.5696e-02, 6.6963e-01,\n",
              "         6.0506e-02, 7.0878e-01, 7.1270e-01, 7.6533e-01, 2.5697e-01, 6.5473e-01,\n",
              "         5.0038e-01, 8.6794e-01, 2.3661e-01, 6.6225e-01, 5.4360e-01, 5.7389e-01,\n",
              "         8.4732e-01, 5.3451e-01, 9.0404e-01, 3.1537e-01, 9.2406e-01, 9.7470e-01,\n",
              "         3.5148e-01, 8.1497e-01, 7.8484e-01, 7.7995e-01, 1.5344e-01, 7.2258e-01,\n",
              "         2.9844e-01, 6.8336e-01, 6.9729e-02, 3.0056e-01, 2.9547e-01, 1.9434e-01,\n",
              "         4.2845e-01, 3.2102e-01, 5.4058e-02, 5.8001e-01, 6.4855e-01, 2.3071e-01,\n",
              "         9.1579e-01, 7.3779e-01, 8.1815e-02, 1.6328e-01, 3.4586e-01, 7.0304e-01,\n",
              "         6.9628e-01, 7.9073e-01, 1.0068e-01, 2.7242e-01, 1.1739e-01, 8.0935e-01,\n",
              "         5.5288e-01, 3.3186e-02, 1.0374e-01, 3.4657e-01, 6.1135e-02, 5.7133e-01,\n",
              "         9.9748e-01, 5.1507e-01, 4.9642e-03, 5.6747e-01, 3.7117e-01, 1.9310e-01,\n",
              "         2.1638e-01, 5.5099e-01, 8.1977e-01, 8.5517e-01, 4.5456e-02, 6.3885e-01,\n",
              "         8.4673e-01, 6.0577e-01, 4.1200e-01, 1.9296e-01, 5.4017e-01, 8.1431e-01,\n",
              "         6.4249e-01, 1.1800e-01, 4.4082e-01, 8.9436e-01, 7.1257e-04, 3.4338e-01,\n",
              "         6.2552e-01, 9.5396e-01, 9.9382e-01, 7.2923e-01, 6.2999e-02, 7.5613e-01,\n",
              "         4.4892e-01, 1.2248e-01, 9.3977e-01, 5.9010e-01, 3.6499e-01, 4.5571e-02,\n",
              "         6.3813e-01, 4.0266e-01, 3.1930e-01, 2.6729e-01, 7.2910e-02, 3.2847e-01,\n",
              "         4.5702e-01, 2.3087e-01, 2.7541e-01, 1.9250e-03, 3.4183e-01, 1.4409e-01,\n",
              "         6.3689e-01, 9.6808e-01, 4.1777e-01, 6.4421e-01, 4.1659e-01, 1.2493e-01,\n",
              "         7.2817e-01, 2.9073e-01, 5.9065e-01, 3.4184e-01, 6.3481e-01, 6.1818e-01,\n",
              "         1.9887e-01, 4.6279e-01, 9.9436e-01, 4.3969e-01, 6.9561e-01, 1.0522e-01,\n",
              "         4.1472e-01, 8.5822e-01, 1.0837e-01, 1.0752e-01, 1.2729e-01, 7.9105e-01,\n",
              "         4.1448e-01, 4.1489e-01, 9.4817e-01, 9.6299e-01, 5.2235e-01, 2.5063e-01,\n",
              "         7.0980e-01, 1.0815e-02, 1.1805e-01, 2.3651e-01, 5.8490e-01, 3.8232e-01,\n",
              "         3.4134e-01, 6.5681e-01, 6.8487e-01, 6.7342e-01, 2.1660e-01, 9.5229e-01,\n",
              "         3.9387e-01, 5.7623e-03, 7.3878e-03, 4.1960e-01, 9.4200e-01, 6.6636e-01,\n",
              "         7.8329e-01, 5.1713e-01, 3.7111e-02, 2.5473e-01, 9.0115e-01, 5.8563e-01,\n",
              "         9.4200e-01, 1.3715e-01, 6.9692e-01, 7.8600e-01, 4.9229e-01, 9.8518e-03,\n",
              "         7.1232e-01, 3.2883e-01, 5.7216e-01, 1.0566e-01, 1.5711e-01, 4.3985e-01,\n",
              "         3.0610e-01, 2.8372e-01, 2.8928e-01, 1.7179e-01, 5.4073e-01, 8.5516e-01,\n",
              "         5.9395e-01, 8.0983e-02, 1.9873e-01, 1.9400e-01, 1.0489e-01, 4.9732e-01,\n",
              "         4.4874e-01, 9.8076e-01, 5.3171e-01, 5.2786e-01, 7.9889e-01, 1.7882e-01,\n",
              "         3.8483e-01, 9.0962e-01, 1.9611e-01, 7.9370e-01, 3.4714e-01, 4.3280e-01,\n",
              "         4.9426e-01, 1.0805e-01, 6.5890e-02, 9.6421e-01, 9.1546e-01, 8.0929e-01,\n",
              "         6.0901e-02, 9.9228e-01, 4.9530e-01, 1.8759e-01, 8.9967e-01, 4.7958e-01,\n",
              "         5.6090e-01, 7.4358e-01, 4.4724e-01, 9.1977e-01, 4.5765e-01, 7.5480e-01,\n",
              "         7.3057e-01, 6.5639e-01, 5.9510e-01, 4.4309e-01, 2.0785e-01, 2.1425e-01,\n",
              "         1.5914e-01, 9.1633e-01, 9.0569e-01, 4.6097e-01, 7.4479e-01, 7.9763e-01,\n",
              "         2.5117e-04, 8.2348e-01, 2.8550e-01, 1.0969e-02, 2.4215e-02, 3.8514e-01,\n",
              "         5.9868e-01, 7.7463e-01, 4.3856e-02, 6.9364e-01, 6.2211e-01, 5.9917e-01,\n",
              "         3.8366e-01, 4.1753e-02, 4.9949e-02, 5.6983e-01, 5.1248e-01, 9.2100e-01,\n",
              "         3.1367e-01, 6.8084e-01, 8.1392e-02, 6.6866e-01, 7.6397e-01, 2.4756e-01,\n",
              "         7.2500e-01, 9.7850e-01, 7.2965e-01, 6.7896e-01, 5.2309e-01, 8.0106e-01,\n",
              "         9.8335e-01, 7.5187e-02, 5.1899e-01, 5.8070e-01, 4.5167e-01, 1.8925e-01,\n",
              "         8.5748e-01, 2.7801e-01, 2.7563e-01, 4.5093e-01, 6.7277e-01, 6.7334e-01,\n",
              "         9.9845e-01, 1.5676e-01, 6.7076e-02, 7.0032e-01, 3.4798e-01, 8.2585e-01,\n",
              "         2.1945e-02, 3.1429e-01, 6.0799e-01, 9.1877e-01, 4.0563e-01, 6.4519e-01,\n",
              "         3.6757e-02, 6.1120e-01, 6.1622e-01, 6.8883e-01, 5.3157e-01, 8.0908e-01,\n",
              "         6.9905e-01, 6.4717e-01, 7.8781e-01, 5.5366e-01]])"
            ]
          },
          "metadata": {
            "tags": []
          },
          "execution_count": 47
        }
      ]
    },
    {
      "cell_type": "code",
      "metadata": {
        "id": "JbrGT82_Qgc-"
      },
      "source": [
        ""
      ],
      "execution_count": null,
      "outputs": []
    }
  ]
}